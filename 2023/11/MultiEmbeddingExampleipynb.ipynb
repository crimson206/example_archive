{
  "nbformat": 4,
  "nbformat_minor": 0,
  "metadata": {
    "colab": {
      "provenance": [],
      "authorship_tag": "ABX9TyMTtAftd7CXVdrdx1gvNI9m",
      "include_colab_link": true
    },
    "kernelspec": {
      "name": "python3",
      "display_name": "Python 3"
    },
    "language_info": {
      "name": "python"
    }
  },
  "cells": [
    {
      "cell_type": "markdown",
      "metadata": {
        "id": "view-in-github",
        "colab_type": "text"
      },
      "source": [
        "<a href=\"https://colab.research.google.com/github/crimson206/example_archive/blob/main/MultiEmbeddingExampleipynb.ipynb\" target=\"_parent\"><img src=\"https://colab.research.google.com/assets/colab-badge.svg\" alt=\"Open In Colab\"/></a>"
      ]
    },
    {
      "cell_type": "code",
      "execution_count": 3,
      "metadata": {
        "id": "9E8aGnysdaAu"
      },
      "outputs": [],
      "source": [
        "import torch.nn as nn\n",
        "import torch\n",
        "\n",
        "import pandas as pd\n",
        "import numpy as np"
      ]
    },
    {
      "cell_type": "markdown",
      "source": [
        "# Prepare Data"
      ],
      "metadata": {
        "id": "U5IVcEtpe4Ii"
      }
    },
    {
      "cell_type": "code",
      "source": [
        "np.random.seed(0)\n",
        "n_data = 1080\n",
        "period = 60\n",
        "\n",
        "# Generate random data\n",
        "df = pd.DataFrame({\n",
        "    'factory_id': np.random.randint(1, 10, n_data),\n",
        "    'product_id': np.random.randint(1, 100, n_data),\n",
        "    'temperature': np.random.uniform(20, 30, n_data),\n",
        "    'humidity': np.random.uniform(30, 70, n_data),\n",
        "    # Create a repeating sequence with a period of 60\n",
        "    'time_since_last_maintenance': np.tile(np.arange(period), n_data // period),\n",
        "    'defect_rate': np.random.uniform(0, 0.1, n_data),\n",
        "})\n",
        "\n",
        "df.head()\n"
      ],
      "metadata": {
        "colab": {
          "base_uri": "https://localhost:8080/",
          "height": 206
        },
        "id": "-xIrrrmidpxy",
        "outputId": "7bd91a61-8d74-4748-eca4-e4680c96553f"
      },
      "execution_count": 42,
      "outputs": [
        {
          "output_type": "execute_result",
          "data": {
            "text/plain": [
              "   factory_id  product_id  temperature   humidity  \\\n",
              "0           6          19    22.274314  43.289493   \n",
              "1           1          72    28.470173  51.075747   \n",
              "2           4          61    26.016257  69.309731   \n",
              "3           4          25    27.532607  35.003351   \n",
              "4           8          33    22.258089  52.770650   \n",
              "\n",
              "   time_since_last_maintenance  defect_rate  \n",
              "0                            0     0.063540  \n",
              "1                            1     0.099109  \n",
              "2                            2     0.068851  \n",
              "3                            3     0.053975  \n",
              "4                            4     0.018211  "
            ],
            "text/html": [
              "\n",
              "  <div id=\"df-df23d89b-a332-44b5-8459-63fe4fddc8a7\" class=\"colab-df-container\">\n",
              "    <div>\n",
              "<style scoped>\n",
              "    .dataframe tbody tr th:only-of-type {\n",
              "        vertical-align: middle;\n",
              "    }\n",
              "\n",
              "    .dataframe tbody tr th {\n",
              "        vertical-align: top;\n",
              "    }\n",
              "\n",
              "    .dataframe thead th {\n",
              "        text-align: right;\n",
              "    }\n",
              "</style>\n",
              "<table border=\"1\" class=\"dataframe\">\n",
              "  <thead>\n",
              "    <tr style=\"text-align: right;\">\n",
              "      <th></th>\n",
              "      <th>factory_id</th>\n",
              "      <th>product_id</th>\n",
              "      <th>temperature</th>\n",
              "      <th>humidity</th>\n",
              "      <th>time_since_last_maintenance</th>\n",
              "      <th>defect_rate</th>\n",
              "    </tr>\n",
              "  </thead>\n",
              "  <tbody>\n",
              "    <tr>\n",
              "      <th>0</th>\n",
              "      <td>6</td>\n",
              "      <td>19</td>\n",
              "      <td>22.274314</td>\n",
              "      <td>43.289493</td>\n",
              "      <td>0</td>\n",
              "      <td>0.063540</td>\n",
              "    </tr>\n",
              "    <tr>\n",
              "      <th>1</th>\n",
              "      <td>1</td>\n",
              "      <td>72</td>\n",
              "      <td>28.470173</td>\n",
              "      <td>51.075747</td>\n",
              "      <td>1</td>\n",
              "      <td>0.099109</td>\n",
              "    </tr>\n",
              "    <tr>\n",
              "      <th>2</th>\n",
              "      <td>4</td>\n",
              "      <td>61</td>\n",
              "      <td>26.016257</td>\n",
              "      <td>69.309731</td>\n",
              "      <td>2</td>\n",
              "      <td>0.068851</td>\n",
              "    </tr>\n",
              "    <tr>\n",
              "      <th>3</th>\n",
              "      <td>4</td>\n",
              "      <td>25</td>\n",
              "      <td>27.532607</td>\n",
              "      <td>35.003351</td>\n",
              "      <td>3</td>\n",
              "      <td>0.053975</td>\n",
              "    </tr>\n",
              "    <tr>\n",
              "      <th>4</th>\n",
              "      <td>8</td>\n",
              "      <td>33</td>\n",
              "      <td>22.258089</td>\n",
              "      <td>52.770650</td>\n",
              "      <td>4</td>\n",
              "      <td>0.018211</td>\n",
              "    </tr>\n",
              "  </tbody>\n",
              "</table>\n",
              "</div>\n",
              "    <div class=\"colab-df-buttons\">\n",
              "\n",
              "  <div class=\"colab-df-container\">\n",
              "    <button class=\"colab-df-convert\" onclick=\"convertToInteractive('df-df23d89b-a332-44b5-8459-63fe4fddc8a7')\"\n",
              "            title=\"Convert this dataframe to an interactive table.\"\n",
              "            style=\"display:none;\">\n",
              "\n",
              "  <svg xmlns=\"http://www.w3.org/2000/svg\" height=\"24px\" viewBox=\"0 -960 960 960\">\n",
              "    <path d=\"M120-120v-720h720v720H120Zm60-500h600v-160H180v160Zm220 220h160v-160H400v160Zm0 220h160v-160H400v160ZM180-400h160v-160H180v160Zm440 0h160v-160H620v160ZM180-180h160v-160H180v160Zm440 0h160v-160H620v160Z\"/>\n",
              "  </svg>\n",
              "    </button>\n",
              "\n",
              "  <style>\n",
              "    .colab-df-container {\n",
              "      display:flex;\n",
              "      gap: 12px;\n",
              "    }\n",
              "\n",
              "    .colab-df-convert {\n",
              "      background-color: #E8F0FE;\n",
              "      border: none;\n",
              "      border-radius: 50%;\n",
              "      cursor: pointer;\n",
              "      display: none;\n",
              "      fill: #1967D2;\n",
              "      height: 32px;\n",
              "      padding: 0 0 0 0;\n",
              "      width: 32px;\n",
              "    }\n",
              "\n",
              "    .colab-df-convert:hover {\n",
              "      background-color: #E2EBFA;\n",
              "      box-shadow: 0px 1px 2px rgba(60, 64, 67, 0.3), 0px 1px 3px 1px rgba(60, 64, 67, 0.15);\n",
              "      fill: #174EA6;\n",
              "    }\n",
              "\n",
              "    .colab-df-buttons div {\n",
              "      margin-bottom: 4px;\n",
              "    }\n",
              "\n",
              "    [theme=dark] .colab-df-convert {\n",
              "      background-color: #3B4455;\n",
              "      fill: #D2E3FC;\n",
              "    }\n",
              "\n",
              "    [theme=dark] .colab-df-convert:hover {\n",
              "      background-color: #434B5C;\n",
              "      box-shadow: 0px 1px 3px 1px rgba(0, 0, 0, 0.15);\n",
              "      filter: drop-shadow(0px 1px 2px rgba(0, 0, 0, 0.3));\n",
              "      fill: #FFFFFF;\n",
              "    }\n",
              "  </style>\n",
              "\n",
              "    <script>\n",
              "      const buttonEl =\n",
              "        document.querySelector('#df-df23d89b-a332-44b5-8459-63fe4fddc8a7 button.colab-df-convert');\n",
              "      buttonEl.style.display =\n",
              "        google.colab.kernel.accessAllowed ? 'block' : 'none';\n",
              "\n",
              "      async function convertToInteractive(key) {\n",
              "        const element = document.querySelector('#df-df23d89b-a332-44b5-8459-63fe4fddc8a7');\n",
              "        const dataTable =\n",
              "          await google.colab.kernel.invokeFunction('convertToInteractive',\n",
              "                                                    [key], {});\n",
              "        if (!dataTable) return;\n",
              "\n",
              "        const docLinkHtml = 'Like what you see? Visit the ' +\n",
              "          '<a target=\"_blank\" href=https://colab.research.google.com/notebooks/data_table.ipynb>data table notebook</a>'\n",
              "          + ' to learn more about interactive tables.';\n",
              "        element.innerHTML = '';\n",
              "        dataTable['output_type'] = 'display_data';\n",
              "        await google.colab.output.renderOutput(dataTable, element);\n",
              "        const docLink = document.createElement('div');\n",
              "        docLink.innerHTML = docLinkHtml;\n",
              "        element.appendChild(docLink);\n",
              "      }\n",
              "    </script>\n",
              "  </div>\n",
              "\n",
              "\n",
              "<div id=\"df-63787a1d-8f8c-4631-a6f4-ab3dd127d390\">\n",
              "  <button class=\"colab-df-quickchart\" onclick=\"quickchart('df-63787a1d-8f8c-4631-a6f4-ab3dd127d390')\"\n",
              "            title=\"Suggest charts\"\n",
              "            style=\"display:none;\">\n",
              "\n",
              "<svg xmlns=\"http://www.w3.org/2000/svg\" height=\"24px\"viewBox=\"0 0 24 24\"\n",
              "     width=\"24px\">\n",
              "    <g>\n",
              "        <path d=\"M19 3H5c-1.1 0-2 .9-2 2v14c0 1.1.9 2 2 2h14c1.1 0 2-.9 2-2V5c0-1.1-.9-2-2-2zM9 17H7v-7h2v7zm4 0h-2V7h2v10zm4 0h-2v-4h2v4z\"/>\n",
              "    </g>\n",
              "</svg>\n",
              "  </button>\n",
              "\n",
              "<style>\n",
              "  .colab-df-quickchart {\n",
              "      --bg-color: #E8F0FE;\n",
              "      --fill-color: #1967D2;\n",
              "      --hover-bg-color: #E2EBFA;\n",
              "      --hover-fill-color: #174EA6;\n",
              "      --disabled-fill-color: #AAA;\n",
              "      --disabled-bg-color: #DDD;\n",
              "  }\n",
              "\n",
              "  [theme=dark] .colab-df-quickchart {\n",
              "      --bg-color: #3B4455;\n",
              "      --fill-color: #D2E3FC;\n",
              "      --hover-bg-color: #434B5C;\n",
              "      --hover-fill-color: #FFFFFF;\n",
              "      --disabled-bg-color: #3B4455;\n",
              "      --disabled-fill-color: #666;\n",
              "  }\n",
              "\n",
              "  .colab-df-quickchart {\n",
              "    background-color: var(--bg-color);\n",
              "    border: none;\n",
              "    border-radius: 50%;\n",
              "    cursor: pointer;\n",
              "    display: none;\n",
              "    fill: var(--fill-color);\n",
              "    height: 32px;\n",
              "    padding: 0;\n",
              "    width: 32px;\n",
              "  }\n",
              "\n",
              "  .colab-df-quickchart:hover {\n",
              "    background-color: var(--hover-bg-color);\n",
              "    box-shadow: 0 1px 2px rgba(60, 64, 67, 0.3), 0 1px 3px 1px rgba(60, 64, 67, 0.15);\n",
              "    fill: var(--button-hover-fill-color);\n",
              "  }\n",
              "\n",
              "  .colab-df-quickchart-complete:disabled,\n",
              "  .colab-df-quickchart-complete:disabled:hover {\n",
              "    background-color: var(--disabled-bg-color);\n",
              "    fill: var(--disabled-fill-color);\n",
              "    box-shadow: none;\n",
              "  }\n",
              "\n",
              "  .colab-df-spinner {\n",
              "    border: 2px solid var(--fill-color);\n",
              "    border-color: transparent;\n",
              "    border-bottom-color: var(--fill-color);\n",
              "    animation:\n",
              "      spin 1s steps(1) infinite;\n",
              "  }\n",
              "\n",
              "  @keyframes spin {\n",
              "    0% {\n",
              "      border-color: transparent;\n",
              "      border-bottom-color: var(--fill-color);\n",
              "      border-left-color: var(--fill-color);\n",
              "    }\n",
              "    20% {\n",
              "      border-color: transparent;\n",
              "      border-left-color: var(--fill-color);\n",
              "      border-top-color: var(--fill-color);\n",
              "    }\n",
              "    30% {\n",
              "      border-color: transparent;\n",
              "      border-left-color: var(--fill-color);\n",
              "      border-top-color: var(--fill-color);\n",
              "      border-right-color: var(--fill-color);\n",
              "    }\n",
              "    40% {\n",
              "      border-color: transparent;\n",
              "      border-right-color: var(--fill-color);\n",
              "      border-top-color: var(--fill-color);\n",
              "    }\n",
              "    60% {\n",
              "      border-color: transparent;\n",
              "      border-right-color: var(--fill-color);\n",
              "    }\n",
              "    80% {\n",
              "      border-color: transparent;\n",
              "      border-right-color: var(--fill-color);\n",
              "      border-bottom-color: var(--fill-color);\n",
              "    }\n",
              "    90% {\n",
              "      border-color: transparent;\n",
              "      border-bottom-color: var(--fill-color);\n",
              "    }\n",
              "  }\n",
              "</style>\n",
              "\n",
              "  <script>\n",
              "    async function quickchart(key) {\n",
              "      const quickchartButtonEl =\n",
              "        document.querySelector('#' + key + ' button');\n",
              "      quickchartButtonEl.disabled = true;  // To prevent multiple clicks.\n",
              "      quickchartButtonEl.classList.add('colab-df-spinner');\n",
              "      try {\n",
              "        const charts = await google.colab.kernel.invokeFunction(\n",
              "            'suggestCharts', [key], {});\n",
              "      } catch (error) {\n",
              "        console.error('Error during call to suggestCharts:', error);\n",
              "      }\n",
              "      quickchartButtonEl.classList.remove('colab-df-spinner');\n",
              "      quickchartButtonEl.classList.add('colab-df-quickchart-complete');\n",
              "    }\n",
              "    (() => {\n",
              "      let quickchartButtonEl =\n",
              "        document.querySelector('#df-63787a1d-8f8c-4631-a6f4-ab3dd127d390 button');\n",
              "      quickchartButtonEl.style.display =\n",
              "        google.colab.kernel.accessAllowed ? 'block' : 'none';\n",
              "    })();\n",
              "  </script>\n",
              "</div>\n",
              "    </div>\n",
              "  </div>\n"
            ]
          },
          "metadata": {},
          "execution_count": 42
        }
      ]
    },
    {
      "cell_type": "markdown",
      "source": [
        "# Data Processing"
      ],
      "metadata": {
        "id": "QqvIo4xEfCHD"
      }
    },
    {
      "cell_type": "code",
      "source": [
        "def generate_tensor(df):\n",
        "    categorical_ids = torch.tensor(df[[\"factory_id\", \"product_id\"]].values)\n",
        "    continuous_ids = torch.tensor(df[[\"temperature\", \"humidity\", \"defect_rate\"]].values).float()\n",
        "    position_id = torch.tensor(df[\"time_since_last_maintenance\"].values).long()\n",
        "    return categorical_ids, continuous_ids, position_id\n",
        "\n",
        "categorical_ids, continuous_ids, position_id = generate_tensor(df)\n"
      ],
      "metadata": {
        "id": "WzERPGicd2Nl"
      },
      "execution_count": 44,
      "outputs": []
    },
    {
      "cell_type": "markdown",
      "source": [
        "# Initiate Embedders"
      ],
      "metadata": {
        "id": "h3s-rQ3NfRWq"
      }
    },
    {
      "cell_type": "code",
      "source": [
        "categorical_sizes = categorical_ids.max(dim=0)[0] + 1\n",
        "categorical_emb_dims = [32, 32]\n",
        "\n",
        "n_continuous = continuous_ids.shape[-1]\n",
        "continuous_emb = 64\n",
        "\n",
        "categorical_embedders = [\n",
        "    nn.Embedding(num_embeddings=categorical_size, embedding_dim=categorical_emb_dim)\n",
        "    for categorical_size, categorical_emb_dim in zip(categorical_sizes, categorical_emb_dims)\n",
        "]\n",
        "\n",
        "continuous_embedder = nn.Linear(n_continuous, continuous_emb)\n"
      ],
      "metadata": {
        "id": "vQufKW9jdsOS"
      },
      "execution_count": 45,
      "outputs": []
    },
    {
      "cell_type": "markdown",
      "source": [
        "# Prepare train data"
      ],
      "metadata": {
        "id": "TmHAO1A8foS-"
      }
    },
    {
      "cell_type": "code",
      "source": [
        "n_seq, d_emb, step = 64, 128, 32\n",
        "\n",
        "start_idx = 0\n",
        "\n",
        "categorical_ids_list = []\n",
        "continuous_ids_list = []\n",
        "position_id_list = []\n",
        "tensor_dict = {}\n",
        "\n",
        "while start_idx+n_seq < n_data:\n",
        "    end_idx = start_idx+n_seq\n",
        "    categorical_ids, continuous_ids, position_id = generate_tensor(df.iloc[start_idx:end_idx])\n",
        "    categorical_ids_list.append(categorical_ids)\n",
        "    continuous_ids_list.append(continuous_ids)\n",
        "    position_id_list.append(position_id)\n",
        "    start_idx += step\n",
        "\n",
        "tensor_dict[\"categorical_ids\"] = torch.stack(categorical_ids_list)\n",
        "tensor_dict[\"continuous_ids\"] = torch.stack(continuous_ids_list)\n",
        "tensor_dict[\"position_ids\"] = torch.stack(position_id_list)\n"
      ],
      "metadata": {
        "id": "U090cAK-d6Y_"
      },
      "execution_count": 46,
      "outputs": []
    },
    {
      "cell_type": "markdown",
      "source": [
        "# Convert to Embedding"
      ],
      "metadata": {
        "id": "cDA39yBTfr3N"
      }
    },
    {
      "cell_type": "code",
      "source": [
        "categorical_embedding = torch.cat(\n",
        "    [\n",
        "        embedder(tensor_dict[\"categorical_ids\"][:,:,i])\n",
        "        for i, embedder in enumerate(categorical_embedders)\n",
        "    ], dim=-1\n",
        ")\n",
        "\n",
        "continuous_embedding = continuous_embedder(tensor_dict[\"continuous_ids\"])\n",
        "\n",
        "cat_embedding = torch.cat([categorical_embedding, continuous_embedding], dim=2)\n",
        "\n",
        "cat_embedding.shape\n"
      ],
      "metadata": {
        "colab": {
          "base_uri": "https://localhost:8080/"
        },
        "id": "ALv_WZiXd85b",
        "outputId": "2687b6e5-9ea5-4e0d-b22e-01ae11ff1d89"
      },
      "execution_count": 47,
      "outputs": [
        {
          "output_type": "execute_result",
          "data": {
            "text/plain": [
              "torch.Size([32, 64, 128])"
            ]
          },
          "metadata": {},
          "execution_count": 47
        }
      ]
    },
    {
      "cell_type": "markdown",
      "source": [
        "# Arbitrary Position Embedding(optional)"
      ],
      "metadata": {
        "id": "82oFxkAvmLHm"
      }
    },
    {
      "cell_type": "code",
      "source": [
        "%%capture\n",
        "!pip install git+https://github.com/crimson206/DeepLearningDevelopment@0.1.5"
      ],
      "metadata": {
        "id": "a9TNF3NwmVrU"
      },
      "execution_count": null,
      "outputs": []
    },
    {
      "cell_type": "code",
      "source": [
        "from CrimsonDeepLearning.transformers.embeddings import ArbitraryPositionalEncoder\n",
        "\n",
        "arbitrary_pos_embedder = ArbitraryPositionalEncoder(max_pos_len=1000, d_emb=64)\n",
        "traditional_pos_embedder = ArbitraryPositionalEncoder(max_pos_len=n_seq, d_emb=64)"
      ],
      "metadata": {
        "id": "UUq5fgyEgWwv"
      },
      "execution_count": 49,
      "outputs": []
    },
    {
      "cell_type": "code",
      "source": [
        "arbitrary_distance = tensor_dict[\"position_ids\"]\n",
        "traditional_distance = torch.arange(0, n_seq).unsqueeze(dim=0).expand(arbitrary_distance.shape)"
      ],
      "metadata": {
        "id": "Jg85H5Pzh13m"
      },
      "execution_count": 50,
      "outputs": []
    },
    {
      "cell_type": "code",
      "source": [
        "arbitrary_pos_embedding = arbitrary_pos_embedder.forward(arbitrary_distance)\n",
        "traditional_pos_embedding = traditional_pos_embedder.forward(traditional_distance)"
      ],
      "metadata": {
        "id": "UH0i0xFri3-7"
      },
      "execution_count": 57,
      "outputs": []
    },
    {
      "cell_type": "code",
      "source": [
        "cat_position_ids = torch.cat([arbitrary_pos_embedding, traditional_pos_embedding], dim=-1)\n",
        "cat_position_ids.shape"
      ],
      "metadata": {
        "colab": {
          "base_uri": "https://localhost:8080/"
        },
        "id": "LQkGbuzWmuZ-",
        "outputId": "ce32716f-9f26-4bab-8002-464dacb3aaac"
      },
      "execution_count": 68,
      "outputs": [
        {
          "output_type": "execute_result",
          "data": {
            "text/plain": [
              "torch.Size([32, 64, 128])"
            ]
          },
          "metadata": {},
          "execution_count": 68
        }
      ]
    },
    {
      "cell_type": "code",
      "source": [
        "import seaborn as sns\n",
        "import matplotlib.pyplot as plt\n",
        "import seaborn as sns\n",
        "import numpy as np\n",
        "\n",
        "fig, axes = plt.subplots(nrows=1, ncols=2, figsize=(10, 5))\n",
        "\n",
        "sns.heatmap(arbitrary_pos_embedding[1], ax=axes[0], cbar=False)\n",
        "axes[0].set_title('Arbitrary Positional Embedding')\n",
        "\n",
        "sns.heatmap(traditional_pos_embedding[1], ax=axes[1], cbar=False)\n",
        "axes[1].set_title('Traditional Positional Embedding')\n",
        "\n",
        "plt.tight_layout()\n",
        "plt.show()\n"
      ],
      "metadata": {
        "colab": {
          "base_uri": "https://localhost:8080/",
          "height": 507
        },
        "id": "jsNz7RbQjips",
        "outputId": "fd644c83-26bb-4b07-9f67-2054e6fd880b"
      },
      "execution_count": 66,
      "outputs": [
        {
          "output_type": "display_data",
          "data": {
            "text/plain": [
              "<Figure size 1000x500 with 2 Axes>"
            ],
            "image/png": "[encoded data removed]"
          },
          "metadata": {}
        }
      ]
    },
    {
      "cell_type": "markdown",
      "source": [
        "# Final Embedding (optional)"
      ],
      "metadata": {
        "id": "oAKsd_BJm_cS"
      }
    },
    {
      "cell_type": "code",
      "source": [
        "final_embedding = cat_embedding + cat_position_ids\n",
        "final_embedding.shape"
      ],
      "metadata": {
        "colab": {
          "base_uri": "https://localhost:8080/"
        },
        "id": "EDHb8PLSm985",
        "outputId": "01466a96-5612-44ef-8dbc-3913f99d979d"
      },
      "execution_count": 70,
      "outputs": [
        {
          "output_type": "execute_result",
          "data": {
            "text/plain": [
              "torch.Size([32, 64, 128])"
            ]
          },
          "metadata": {},
          "execution_count": 70
        }
      ]
    }
  ]
}