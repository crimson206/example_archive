{
 "cells": [
  {
   "cell_type": "markdown",
   "metadata": {},
   "source": [
    "# UMLs\n",
    "\n",
    "![UML Diagram](data_summary.png)\n",
    "\n",
    "![UML Diagram2](model_uml.png)\n"
   ]
  },
  {
   "cell_type": "markdown",
   "metadata": {},
   "source": [
    "# Import Packages"
   ]
  },
  {
   "cell_type": "code",
   "execution_count": 1,
   "metadata": {
    "execution": {
     "iopub.execute_input": "2023-12-07T10:24:41.908642Z",
     "iopub.status.busy": "2023-12-07T10:24:41.908043Z",
     "iopub.status.idle": "2023-12-07T10:24:47.967432Z",
     "shell.execute_reply": "2023-12-07T10:24:47.966916Z",
     "shell.execute_reply.started": "2023-12-07T10:24:41.908616Z"
    }
   },
   "outputs": [
    {
     "name": "stdout",
     "output_type": "stream",
     "text": [
      "Collecting git+https://github.com/crimson206/DeepLearningDevelopment@0.1.6\n",
      "  Cloning https://github.com/crimson206/DeepLearningDevelopment (to revision 0.1.6) to /tmp/pip-req-build-e2va0qup\n",
      "  Running command git clone --filter=blob:none --quiet https://github.com/crimson206/DeepLearningDevelopment /tmp/pip-req-build-e2va0qup\n",
      "  Running command git checkout -q c85515a58cda682c53f623b1f7864ad6c52a89dd\n",
      "  Resolved https://github.com/crimson206/DeepLearningDevelopment to commit c85515a58cda682c53f623b1f7864ad6c52a89dd\n",
      "  Installing build dependencies ... \u001b[?25ldone\n",
      "\u001b[?25h  Getting requirements to build wheel ... \u001b[?25ldone\n",
      "\u001b[?25h  Preparing metadata (pyproject.toml) ... \u001b[?25ldone\n",
      "\u001b[?25hRequirement already satisfied: numpy in /usr/local/lib/python3.9/dist-packages (from DeepLearningDevelopment==0.1.6) (1.23.4)\n",
      "Requirement already satisfied: torch in /usr/local/lib/python3.9/dist-packages (from DeepLearningDevelopment==0.1.6) (1.12.1+cu116)\n",
      "Requirement already satisfied: typing-extensions in /usr/local/lib/python3.9/dist-packages (from torch->DeepLearningDevelopment==0.1.6) (4.4.0)\n",
      "\u001b[33mWARNING: Running pip as the 'root' user can result in broken permissions and conflicting behaviour with the system package manager. It is recommended to use a virtual environment instead: https://pip.pypa.io/warnings/venv\u001b[0m\u001b[33m\n",
      "\u001b[0mNote: you may need to restart the kernel to use updated packages.\n"
     ]
    }
   ],
   "source": [
    "pip install git+https://github.com/crimson206/DeepLearningDevelopment@0.1.6"
   ]
  },
  {
   "cell_type": "code",
   "execution_count": 2,
   "metadata": {
    "execution": {
     "iopub.execute_input": "2023-12-07T10:24:47.968741Z",
     "iopub.status.busy": "2023-12-07T10:24:47.968454Z",
     "iopub.status.idle": "2023-12-07T10:24:49.262918Z",
     "shell.execute_reply": "2023-12-07T10:24:49.262387Z",
     "shell.execute_reply.started": "2023-12-07T10:24:47.968719Z"
    }
   },
   "outputs": [],
   "source": [
    "from CrimsonDeepLearning.transformers.models.MultiEmbeddingTransformers import MultiEmbeddingTransformerBuilder\n",
    "from CrimsonDeepLearning.transformers.headers.Regressionheads import RegressionHead\n",
    "from CrimsonDeepLearning.transformers.models.Crimsonformer import Crimsonformer\n",
    "from CrimsonDeepLearning.utils.data import dict_to_device\n",
    "from CrimsonDeepLearning.utils.losses import FlattenLoss, NanProofLoss, combined_loss\n",
    "from CrimsonDeepLearning.visualization.displays import display_progress\n",
    "from CrimsonDeepLearning.visualization.loggers import LossLogger\n",
    "\n",
    "import numpy as np\n",
    "import pandas as pd\n",
    "\n",
    "import matplotlib.pyplot as plt\n",
    "\n",
    "from tqdm import tqdm\n",
    "\n",
    "import torch\n",
    "import torch.nn as nn\n",
    "import torch.nn.functional as F\n",
    "from torch.optim.lr_scheduler import StepLR\n",
    "\n",
    "device = \"cuda\" if torch.cuda.is_available() else \"cpu\""
   ]
  },
  {
   "cell_type": "markdown",
   "metadata": {},
   "source": [
    "# Definition of the Prolbem\n",
    "    From RNA structure, predict the reactivity values\n",
    "    \n",
    "    Please check the link\n",
    "\n",
    "    https://www.kaggle.com/competitions/stanford-ribonanza-rna-folding"
   ]
  },
  {
   "cell_type": "markdown",
   "metadata": {},
   "source": [
    "# Data\n",
    "\n",
    "For this demonstration, I use only a part of the data.\n",
    "You can obtain the (unprocessed) whole data from the kaggle competition."
   ]
  },
  {
   "cell_type": "markdown",
   "metadata": {},
   "source": [
    "## Understanding Data"
   ]
  },
  {
   "cell_type": "code",
   "execution_count": 3,
   "metadata": {
    "execution": {
     "iopub.execute_input": "2023-12-07T10:24:51.858042Z",
     "iopub.status.busy": "2023-12-07T10:24:51.857034Z",
     "iopub.status.idle": "2023-12-07T10:24:53.378589Z",
     "shell.execute_reply": "2023-12-07T10:24:53.377979Z",
     "shell.execute_reply.started": "2023-12-07T10:24:51.858017Z"
    }
   },
   "outputs": [
    {
     "data": {
      "text/html": [
       "<div>\n",
       "<style scoped>\n",
       "    .dataframe tbody tr th:only-of-type {\n",
       "        vertical-align: middle;\n",
       "    }\n",
       "\n",
       "    .dataframe tbody tr th {\n",
       "        vertical-align: top;\n",
       "    }\n",
       "\n",
       "    .dataframe thead th {\n",
       "        text-align: right;\n",
       "    }\n",
       "</style>\n",
       "<table border=\"1\" class=\"dataframe\">\n",
       "  <thead>\n",
       "    <tr style=\"text-align: right;\">\n",
       "      <th></th>\n",
       "      <th>sequence_id</th>\n",
       "      <th>sequence</th>\n",
       "      <th>experiment_type</th>\n",
       "      <th>dataset_name</th>\n",
       "      <th>reads</th>\n",
       "      <th>signal_to_noise</th>\n",
       "      <th>SN_filter</th>\n",
       "      <th>reactivity_0001</th>\n",
       "      <th>reactivity_0002</th>\n",
       "      <th>reactivity_0003</th>\n",
       "      <th>...</th>\n",
       "      <th>reactivity_error_0201</th>\n",
       "      <th>reactivity_error_0202</th>\n",
       "      <th>reactivity_error_0203</th>\n",
       "      <th>reactivity_error_0204</th>\n",
       "      <th>reactivity_error_0205</th>\n",
       "      <th>reactivity_error_0206</th>\n",
       "      <th>structure</th>\n",
       "      <th>sequence_ext</th>\n",
       "      <th>seq_len</th>\n",
       "      <th>fold</th>\n",
       "    </tr>\n",
       "  </thead>\n",
       "  <tbody>\n",
       "    <tr>\n",
       "      <th>1</th>\n",
       "      <td>51e61fbde94d</td>\n",
       "      <td>GGGAACGACUCGAGUAGAGUCGAAAAACAUUGAUAUGGAUUUACUC...</td>\n",
       "      <td>2A3_MaP</td>\n",
       "      <td>15k_2A3</td>\n",
       "      <td>5326</td>\n",
       "      <td>1.933</td>\n",
       "      <td>1</td>\n",
       "      <td>NaN</td>\n",
       "      <td>NaN</td>\n",
       "      <td>NaN</td>\n",
       "      <td>...</td>\n",
       "      <td>NaN</td>\n",
       "      <td>NaN</td>\n",
       "      <td>NaN</td>\n",
       "      <td>NaN</td>\n",
       "      <td>NaN</td>\n",
       "      <td>NaN</td>\n",
       "      <td>.....((((((.....)))))).....(.(((((..((((((((((...</td>\n",
       "      <td>BBBEEGADGJGBEBKECFCLICEEEEEGEJJADJEKAADJJJDGJG...</td>\n",
       "      <td>170</td>\n",
       "      <td>1</td>\n",
       "    </tr>\n",
       "    <tr>\n",
       "      <th>2</th>\n",
       "      <td>25ce8d5109cd</td>\n",
       "      <td>GGGAACGACUCGAGUAGAGUCGAAAAACCUUGAUAUGGAUUUACUC...</td>\n",
       "      <td>2A3_MaP</td>\n",
       "      <td>15k_2A3</td>\n",
       "      <td>4647</td>\n",
       "      <td>2.347</td>\n",
       "      <td>1</td>\n",
       "      <td>NaN</td>\n",
       "      <td>NaN</td>\n",
       "      <td>NaN</td>\n",
       "      <td>...</td>\n",
       "      <td>NaN</td>\n",
       "      <td>NaN</td>\n",
       "      <td>NaN</td>\n",
       "      <td>NaN</td>\n",
       "      <td>NaN</td>\n",
       "      <td>NaN</td>\n",
       "      <td>((...((((((.....)))))).....))(((((..((((((((((...</td>\n",
       "      <td>AABEEGADGJGBEBKECFCLICEEEEEIIJJADJEKAADJJJDGJG...</td>\n",
       "      <td>170</td>\n",
       "      <td>2</td>\n",
       "    </tr>\n",
       "    <tr>\n",
       "      <th>3</th>\n",
       "      <td>07dcfb6d1965</td>\n",
       "      <td>GGGAACGACUCGAGUAGAGUCGAAAAACUUUGAUAUGGAUUUACUC...</td>\n",
       "      <td>2A3_MaP</td>\n",
       "      <td>15k_2A3</td>\n",
       "      <td>102843</td>\n",
       "      <td>11.824</td>\n",
       "      <td>1</td>\n",
       "      <td>NaN</td>\n",
       "      <td>NaN</td>\n",
       "      <td>NaN</td>\n",
       "      <td>...</td>\n",
       "      <td>NaN</td>\n",
       "      <td>NaN</td>\n",
       "      <td>NaN</td>\n",
       "      <td>NaN</td>\n",
       "      <td>NaN</td>\n",
       "      <td>NaN</td>\n",
       "      <td>.....((((((.....)))))).......(((((..((((((((((...</td>\n",
       "      <td>BBBEEGADGJGBEBKECFCLICEEEEEHKJJADJEKAADJJJDGJG...</td>\n",
       "      <td>170</td>\n",
       "      <td>0</td>\n",
       "    </tr>\n",
       "    <tr>\n",
       "      <th>4</th>\n",
       "      <td>e561cc042a4c</td>\n",
       "      <td>GGGAACGACUCGAGUAGAGUCGAAAAACGAUGAUAUGGAUUUACUC...</td>\n",
       "      <td>2A3_MaP</td>\n",
       "      <td>15k_2A3</td>\n",
       "      <td>7665</td>\n",
       "      <td>3.519</td>\n",
       "      <td>1</td>\n",
       "      <td>NaN</td>\n",
       "      <td>NaN</td>\n",
       "      <td>NaN</td>\n",
       "      <td>...</td>\n",
       "      <td>NaN</td>\n",
       "      <td>NaN</td>\n",
       "      <td>NaN</td>\n",
       "      <td>NaN</td>\n",
       "      <td>NaN</td>\n",
       "      <td>NaN</td>\n",
       "      <td>.....((((((.....))))))........((((..((((((((((...</td>\n",
       "      <td>BBBEEGADGJGBEBKECFCLICEEEEEHBEJADJEKAADJJJDGJG...</td>\n",
       "      <td>170</td>\n",
       "      <td>2</td>\n",
       "    </tr>\n",
       "    <tr>\n",
       "      <th>5</th>\n",
       "      <td>aa948762535f</td>\n",
       "      <td>GGGAACGACUCGAGUAGAGUCGAAAAACGCUGAUAUGGAUUUACUC...</td>\n",
       "      <td>2A3_MaP</td>\n",
       "      <td>15k_2A3</td>\n",
       "      <td>14018</td>\n",
       "      <td>3.219</td>\n",
       "      <td>1</td>\n",
       "      <td>NaN</td>\n",
       "      <td>NaN</td>\n",
       "      <td>NaN</td>\n",
       "      <td>...</td>\n",
       "      <td>NaN</td>\n",
       "      <td>NaN</td>\n",
       "      <td>NaN</td>\n",
       "      <td>NaN</td>\n",
       "      <td>NaN</td>\n",
       "      <td>NaN</td>\n",
       "      <td>.....((((((.....))))))......(.((((..((((((((((...</td>\n",
       "      <td>BBBEEGADGJGBEBKECFCLICEEEEEHAHJADJEKAADJJJDGJG...</td>\n",
       "      <td>170</td>\n",
       "      <td>1</td>\n",
       "    </tr>\n",
       "  </tbody>\n",
       "</table>\n",
       "<p>5 rows × 423 columns</p>\n",
       "</div>"
      ],
      "text/plain": [
       "    sequence_id                                           sequence  \\\n",
       "1  51e61fbde94d  GGGAACGACUCGAGUAGAGUCGAAAAACAUUGAUAUGGAUUUACUC...   \n",
       "2  25ce8d5109cd  GGGAACGACUCGAGUAGAGUCGAAAAACCUUGAUAUGGAUUUACUC...   \n",
       "3  07dcfb6d1965  GGGAACGACUCGAGUAGAGUCGAAAAACUUUGAUAUGGAUUUACUC...   \n",
       "4  e561cc042a4c  GGGAACGACUCGAGUAGAGUCGAAAAACGAUGAUAUGGAUUUACUC...   \n",
       "5  aa948762535f  GGGAACGACUCGAGUAGAGUCGAAAAACGCUGAUAUGGAUUUACUC...   \n",
       "\n",
       "  experiment_type dataset_name   reads  signal_to_noise  SN_filter  \\\n",
       "1         2A3_MaP      15k_2A3    5326            1.933          1   \n",
       "2         2A3_MaP      15k_2A3    4647            2.347          1   \n",
       "3         2A3_MaP      15k_2A3  102843           11.824          1   \n",
       "4         2A3_MaP      15k_2A3    7665            3.519          1   \n",
       "5         2A3_MaP      15k_2A3   14018            3.219          1   \n",
       "\n",
       "   reactivity_0001  reactivity_0002  reactivity_0003  ...  \\\n",
       "1              NaN              NaN              NaN  ...   \n",
       "2              NaN              NaN              NaN  ...   \n",
       "3              NaN              NaN              NaN  ...   \n",
       "4              NaN              NaN              NaN  ...   \n",
       "5              NaN              NaN              NaN  ...   \n",
       "\n",
       "   reactivity_error_0201  reactivity_error_0202  reactivity_error_0203  \\\n",
       "1                    NaN                    NaN                    NaN   \n",
       "2                    NaN                    NaN                    NaN   \n",
       "3                    NaN                    NaN                    NaN   \n",
       "4                    NaN                    NaN                    NaN   \n",
       "5                    NaN                    NaN                    NaN   \n",
       "\n",
       "   reactivity_error_0204  reactivity_error_0205  reactivity_error_0206  \\\n",
       "1                    NaN                    NaN                    NaN   \n",
       "2                    NaN                    NaN                    NaN   \n",
       "3                    NaN                    NaN                    NaN   \n",
       "4                    NaN                    NaN                    NaN   \n",
       "5                    NaN                    NaN                    NaN   \n",
       "\n",
       "                                           structure  \\\n",
       "1  .....((((((.....)))))).....(.(((((..((((((((((...   \n",
       "2  ((...((((((.....)))))).....))(((((..((((((((((...   \n",
       "3  .....((((((.....)))))).......(((((..((((((((((...   \n",
       "4  .....((((((.....))))))........((((..((((((((((...   \n",
       "5  .....((((((.....))))))......(.((((..((((((((((...   \n",
       "\n",
       "                                        sequence_ext  seq_len  fold  \n",
       "1  BBBEEGADGJGBEBKECFCLICEEEEEGEJJADJEKAADJJJDGJG...      170     1  \n",
       "2  AABEEGADGJGBEBKECFCLICEEEEEIIJJADJEKAADJJJDGJG...      170     2  \n",
       "3  BBBEEGADGJGBEBKECFCLICEEEEEHKJJADJEKAADJJJDGJG...      170     0  \n",
       "4  BBBEEGADGJGBEBKECFCLICEEEEEHBEJADJEKAADJJJDGJG...      170     2  \n",
       "5  BBBEEGADGJGBEBKECFCLICEEEEEHAHJADJEKAADJJJDGJG...      170     1  \n",
       "\n",
       "[5 rows x 423 columns]"
      ]
     },
     "execution_count": 3,
     "metadata": {},
     "output_type": "execute_result"
    }
   ],
   "source": [
    "data = pd.read_parquet(\"please visit the link for data\")\n",
    "\n",
    "data.head()"
   ]
  },
  {
   "cell_type": "markdown",
   "metadata": {},
   "source": [
    "- Sequence:\n",
    "  The RNA is represented as a sequence of 4 letters (G, U, A, C).\n",
    "\n",
    "- Structure:\n",
    "  The 3D structure information of the Sequence is represented by 3 symbols. You can see examples by searching for RNA structure images on Google. \n",
    "  [Google Image Search for RNA Structure](https://www.google.com/search?sca_esv=587728493&q=rna+structure&tbm=isch&source=lnms&sa=X&ved=2ahUKEwj35aPopvaCAxWXhf0HHS_vCRUQ0pQJegQIDRAB&biw=1745&bih=857&dpr=1.1)\n",
    "\n",
    "- Experiment Map:\n",
    "  The reactivity values were measured with different experiments. In this example, we have only two (2A3, DMS).\n"
   ]
  },
  {
   "cell_type": "code",
   "execution_count": 4,
   "metadata": {
    "execution": {
     "iopub.execute_input": "2023-12-07T10:24:53.436584Z",
     "iopub.status.busy": "2023-12-07T10:24:53.436353Z",
     "iopub.status.idle": "2023-12-07T10:24:53.440499Z",
     "shell.execute_reply": "2023-12-07T10:24:53.439928Z",
     "shell.execute_reply.started": "2023-12-07T10:24:53.436567Z"
    }
   },
   "outputs": [
    {
     "name": "stdout",
     "output_type": "stream",
     "text": [
      "Sequence example:\n",
      "GGGAACGACUCGAGUAGAGUCGAAAAACAUUGAUAUGGAUUUACUCCGAGGAGACGAACUACCACGAACAGGGGAAACUCUACCCGUGGCGUCUCCGUUUGACGAGUAAGUCCUAAGUCAACAUGCACAGCGCUGGGUUCGCCCAGCGCAAAAGAAACAACAACAACAAC\n",
      "\n",
      "Structre example:\n",
      ".....((((((.....)))))).....(.(((((..(((((((((((..(((((((.....(((((...((((....))))...))))))))))))....)..))))))))))...)))))...)....((((((((....)))))))).....................\n"
     ]
    }
   ],
   "source": [
    "# hidden code\n",
    "\n",
    "print(\"Sequence example:\")\n",
    "print(data[\"sequence\"].iloc[0])\n",
    "print(\"\\nStructre example:\")\n",
    "print(data[\"structure\"].iloc[0])"
   ]
  },
  {
   "cell_type": "markdown",
   "metadata": {},
   "source": [
    "- Reactivity:\\\n",
    "    It is the target value.\\\n",
    "    The reactivity of a nucleotide in RNA refers to its tendency to interact with other molecules or participate in chemical reactions.\n",
    "\n",
    "- Signal To Noise, Reads, Error\\\n",
    "    They are related to the reactivity measurement accuracy.\n"
   ]
  },
  {
   "cell_type": "code",
   "execution_count": 5,
   "metadata": {
    "execution": {
     "iopub.execute_input": "2023-12-07T10:24:58.371464Z",
     "iopub.status.busy": "2023-12-07T10:24:58.371207Z",
     "iopub.status.idle": "2023-12-07T10:24:58.496002Z",
     "shell.execute_reply": "2023-12-07T10:24:58.495219Z",
     "shell.execute_reply.started": "2023-12-07T10:24:58.371445Z"
    }
   },
   "outputs": [
    {
     "name": "stdout",
     "output_type": "stream",
     "text": [
      "Sequence example:\n",
      "GGGAACGACUCGAGUAGAGUCGAAAAACAUUGAUAUGGAUUUACUCCGAGGAGACGAACUACCACGAACAGGGGAAACUCUACCCGUGGCGUCUCCGUUUGACGAGUAAGUCCUAAGUCAACAUGCACAGCGCUGGGUUCGCCCAGCGCAAAAGAAACAACAACAACAAC\n",
      "\n",
      "Structre example:\n",
      ".....((((((.....)))))).....(.(((((..(((((((((((..(((((((.....(((((...((((....))))...))))))))))))....)..))))))))))...)))))...)....((((((((....)))))))).....................\n"
     ]
    }
   ],
   "source": [
    "# hidden code\n",
    "\n",
    "reactivity_cols = [col for col in data.columns if \"reactivity_0\" in col]\n",
    "data[reactivity_cols].values[0]\n",
    "\n",
    "print(\"Sequence example:\")\n",
    "print(data[\"sequence\"].iloc[0])\n",
    "print(\"\\nStructre example:\")\n",
    "print(data[\"structure\"].iloc[0])"
   ]
  },
  {
   "cell_type": "code",
   "execution_count": 6,
   "metadata": {
    "execution": {
     "iopub.execute_input": "2023-12-07T10:24:59.803389Z",
     "iopub.status.busy": "2023-12-07T10:24:59.802747Z",
     "iopub.status.idle": "2023-12-07T10:25:00.051431Z",
     "shell.execute_reply": "2023-12-07T10:25:00.050780Z",
     "shell.execute_reply.started": "2023-12-07T10:24:59.803363Z"
    }
   },
   "outputs": [
    {
     "data": {
      "image/png": "[encoded data removed]",
      "text/plain": [
       "<Figure size 640x480 with 1 Axes>"
      ]
     },
     "metadata": {},
     "output_type": "display_data"
    }
   ],
   "source": [
    "\n",
    "reactivity_cols = [col for col in data.columns if \"reactivity_0\" in col]\n",
    "\n",
    "reactivity_example = data[reactivity_cols].values[0]\n",
    "reactivity_example[np.isnan(reactivity_example)] = -1\n",
    "\n",
    "plt.plot(reactivity_example)\n",
    "plt.title(\"Reactivity Example, nan value is converted into -1\")\n",
    "plt.ylabel(\"Reactivity\")\n",
    "plt.xlabel(\"Sequence\")\n",
    "plt.show()"
   ]
  },
  {
   "cell_type": "markdown",
   "metadata": {},
   "source": [
    "## Data Process\n",
    "\n",
    "1. The target value is the reactivity values.\\\n",
    "\n",
    "    - In train data,\\\n",
    "        : sequence, reactivity, experiment_map + signal_to_noise, reads, error.\n",
    "\n",
    "    - In test data,\\\n",
    "        : sequence, reactivity, experiment_map.\n",
    "\n",
    "2. Processed data\n",
    "\n",
    "    - Structure\\\n",
    "        : One can extract structures from sequences, so I added this to both data.\n",
    "    - Nan_position\\\n",
    "        : The sequence positions with nan values\n",
    "    - Front_posotion\\\n",
    "        : The distance from the start of a RNA\n",
    "    - Back_posotion\\\n",
    "        : The distance from the end of a RNA\n",
    "\n",
    "3. Data Usage\n",
    "\n",
    "    - Input data\\\n",
    "        : sequence, structure, experiment Map\n",
    "\n",
    "    - Main Output\\\n",
    "        : reactivity\n",
    "\n",
    "    - Sub Outputs:\\\n",
    "        : nan_position, signal_to_noise, reads, error\n",
    "\n",
    "* The reactivity values are dependent on the sub outputs values, so we'd better use the values,\\\n",
    "\n",
    "    but, we can't use the value for the interference.\\\n",
    "\n",
    "    Therefore, we use the data for auxiliary tasks."
   ]
  },
  {
   "cell_type": "markdown",
   "metadata": {},
   "source": [
    "\n",
    "\n",
    "4. Processing grouped by sequence length\n",
    "\n",
    "    - The data is processed respectively grouped by the sequence length\n",
    "\n",
    "        - We don't need to use attention mask and padding.\n",
    "        \n",
    "        - It enhance the speed of training and accuracy.\n",
    "\n",
    "5. Data Structure\n",
    "\n",
    "    List[Dictionary[key]:Tensor],\n",
    "\n",
    "    where Dictionary[key].shape is (n_batch, n_seq) or (n_batch)\n"
   ]
  },
  {
   "cell_type": "markdown",
   "metadata": {},
   "source": [
    "The process functions are in data_process.py. You can read if you are interested in."
   ]
  },
  {
   "cell_type": "code",
   "execution_count": 7,
   "metadata": {
    "execution": {
     "iopub.execute_input": "2023-12-07T10:25:04.961756Z",
     "iopub.status.busy": "2023-12-07T10:25:04.961187Z",
     "iopub.status.idle": "2023-12-07T10:25:05.567645Z",
     "shell.execute_reply": "2023-12-07T10:25:05.567065Z",
     "shell.execute_reply.started": "2023-12-07T10:25:04.961732Z"
    }
   },
   "outputs": [
    {
     "name": "stdout",
     "output_type": "stream",
     "text": [
      "processing seq_len 170\n"
     ]
    },
    {
     "name": "stderr",
     "output_type": "stream",
     "text": [
      "Tokenizing sequences: 100%|██████████| 1000/1000 [00:00<00:00, 134531.99it/s]\n",
      "Tokenizing sequences: 100%|██████████| 1000/1000 [00:00<00:00, 131314.11it/s]\n"
     ]
    },
    {
     "name": "stdout",
     "output_type": "stream",
     "text": [
      "processing seq_len 177\n"
     ]
    },
    {
     "name": "stderr",
     "output_type": "stream",
     "text": [
      "Tokenizing sequences: 100%|██████████| 1000/1000 [00:00<00:00, 88215.71it/s]\n",
      "Tokenizing sequences: 100%|██████████| 1000/1000 [00:00<00:00, 124752.51it/s]\n"
     ]
    },
    {
     "name": "stdout",
     "output_type": "stream",
     "text": [
      "processing seq_len 115\n"
     ]
    },
    {
     "name": "stderr",
     "output_type": "stream",
     "text": [
      "Tokenizing sequences: 100%|██████████| 1000/1000 [00:00<00:00, 178124.77it/s]\n",
      "Tokenizing sequences: 100%|██████████| 1000/1000 [00:00<00:00, 168880.01it/s]\n"
     ]
    },
    {
     "name": "stdout",
     "output_type": "stream",
     "text": [
      "processing seq_len 155\n"
     ]
    },
    {
     "name": "stderr",
     "output_type": "stream",
     "text": [
      "Tokenizing sequences: 100%|██████████| 1000/1000 [00:00<00:00, 136809.45it/s]\n",
      "Tokenizing sequences: 100%|██████████| 1000/1000 [00:00<00:00, 135191.10it/s]\n"
     ]
    },
    {
     "name": "stdout",
     "output_type": "stream",
     "text": [
      "processing seq_len 206\n"
     ]
    },
    {
     "name": "stderr",
     "output_type": "stream",
     "text": [
      "Tokenizing sequences: 100%|██████████| 1000/1000 [00:00<00:00, 110992.72it/s]\n",
      "Tokenizing sequences: 100%|██████████| 1000/1000 [00:00<00:00, 110164.79it/s]\n"
     ]
    }
   ],
   "source": [
    "from data_process import process_data\n",
    "\n",
    "processed_data_in_seq_len = {}\n",
    "\n",
    "seq_lens = data[\"seq_len\"].unique()\n",
    "\n",
    "data_size_per_seqlen = 1000\n",
    "for seq_len in seq_lens:\n",
    "    data_temp = data[data[\"seq_len\"]==seq_len]\n",
    "    processed_data_in_seq_len[seq_len] = process_data(data_temp.iloc[:data_size_per_seqlen], seq_len=seq_len, max_len=seq_len)"
   ]
  },
  {
   "cell_type": "markdown",
   "metadata": {},
   "source": [
    "6. Folds\n",
    "    - In the FoldHolder, we initialize an array np.randint(0, k_fold, (n_data)).\n",
    "    - Using the array as indexes, we can get different folds."
   ]
  },
  {
   "cell_type": "code",
   "execution_count": 8,
   "metadata": {
    "execution": {
     "iopub.execute_input": "2023-12-07T10:25:08.201824Z",
     "iopub.status.busy": "2023-12-07T10:25:08.201258Z",
     "iopub.status.idle": "2023-12-07T10:25:10.042333Z",
     "shell.execute_reply": "2023-12-07T10:25:10.041727Z",
     "shell.execute_reply.started": "2023-12-07T10:25:08.201802Z"
    }
   },
   "outputs": [
    {
     "data": {
      "text/plain": [
       "(116, 39)"
      ]
     },
     "execution_count": 8,
     "metadata": {},
     "output_type": "execute_result"
    }
   ],
   "source": [
    "tensor_list = []\n",
    "\n",
    "batch_size = 32\n",
    "for seq_len in seq_lens:\n",
    "    process_data_temp = processed_data_in_seq_len[seq_len]\n",
    "    n_data = len(process_data_temp[\"sequence_ids\"])\n",
    "\n",
    "    tensor_dict = {}\n",
    "\n",
    "    start_index = 0\n",
    "    end_index = start_index + batch_size\n",
    "    while end_index < n_data:\n",
    "        for key, value in process_data_temp.items():\n",
    "            tensor_dict[key] = value[start_index:end_index]\n",
    "        tensor_dict = dict_to_device(tensor_dict, device)\n",
    "        tensor_list.append(tensor_dict)\n",
    "\n",
    "        start_index += batch_size\n",
    "        end_index = start_index + batch_size\n",
    "\n",
    "class FoldHolder():\n",
    "    def __init__(self, tensor_list, k_folds, seed):\n",
    "        self.tensor_array = tensor_list\n",
    "\n",
    "        n_data = len(tensor_list)\n",
    "        self.folds = self._set_folds(\n",
    "            n_data=n_data,\n",
    "            k_folds=k_folds,\n",
    "            seed=seed\n",
    "        )\n",
    "        self._reference_idx = np.arange(n_data)\n",
    "\n",
    "    def get_fold(self, fold):\n",
    "        train_mask = np.array(self.folds != fold)\n",
    "        val_mask = np.array(self.folds == fold)\n",
    "\n",
    "        train_idx = self._reference_idx[train_mask]\n",
    "        val_idx = self._reference_idx[val_mask]\n",
    "\n",
    "        train_list = [tensor_list[i] for i in train_idx]\n",
    "        val_list = [tensor_list[i] for i in val_idx]\n",
    "\n",
    "        return train_list, val_list\n",
    "\n",
    "    def _set_folds(self, n_data, k_folds, seed):\n",
    "        np.random.seed = seed\n",
    "        folds = np.random.randint(0, k_folds, (n_data))\n",
    "        return folds\n",
    "\n",
    "fold_holder = FoldHolder(tensor_list=np.array(tensor_list), k_folds=4, seed=42)\n",
    "train_list, val_list = fold_holder.get_fold(1)\n",
    "\n",
    "len(train_list), len(val_list)"
   ]
  },
  {
   "cell_type": "markdown",
   "metadata": {},
   "source": [
    "## Model\n",
    "\n",
    "1. Multi Positional Encoding.\n",
    "    - We device the embedding space into two, and each half is used for front or back position id.\n",
    "    - At the end of a RNA, the back positional information [... 2, 1, 0] is more important than the front positional information [0, 1, 2 ...].\n",
    "    - For sequences with different seq_lens, my embedding can give both positional information.\n",
    "\n",
    "2. Multi Categorical Embedding.\n",
    "    - We have 3 different categorical informations.\n",
    "    - Therefore, we embed them respectively, and concatenate them.\n",
    "    - For the more important parameter, we can assign more embedding dimension.\n",
    "\n",
    "3. Encoder.\n",
    "    - We can choose a model from the transformers library to use its encoder.\n",
    "\n",
    "For the implementation codes, visit my DeepLearning library.\n",
    "    - https://github.com/crimson206/DeepLearningDevelopment"
   ]
  },
  {
   "cell_type": "code",
   "execution_count": 39,
   "metadata": {
    "execution": {
     "iopub.execute_input": "2023-12-07T10:33:23.056938Z",
     "iopub.status.busy": "2023-12-07T10:33:23.056280Z",
     "iopub.status.idle": "2023-12-07T10:33:23.060484Z",
     "shell.execute_reply": "2023-12-07T10:33:23.059986Z",
     "shell.execute_reply.started": "2023-12-07T10:33:23.056914Z"
    }
   },
   "outputs": [],
   "source": [
    "import random\n",
    "import os\n"
   ]
  },
  {
   "cell_type": "code",
   "execution_count": 45,
   "metadata": {
    "execution": {
     "iopub.execute_input": "2023-12-07T10:34:28.704700Z",
     "iopub.status.busy": "2023-12-07T10:34:28.704201Z",
     "iopub.status.idle": "2023-12-07T10:34:28.708549Z",
     "shell.execute_reply": "2023-12-07T10:34:28.707912Z",
     "shell.execute_reply.started": "2023-12-07T10:34:28.704679Z"
    }
   },
   "outputs": [],
   "source": [
    "def seed_everything(seed=42):\n",
    "    random.seed(seed)\n",
    "    os.environ['PYTHONHASHSEED'] = str(seed)\n",
    "    torch.manual_seed(seed)\n",
    "    torch.cuda.manual_seed(seed)\n",
    "    torch.backends.cudnn.deterministic = True\n",
    "    torch.backends.cudnn.benchmark = True"
   ]
  },
  {
   "cell_type": "code",
   "execution_count": 52,
   "metadata": {
    "execution": {
     "iopub.execute_input": "2023-12-07T10:35:25.923819Z",
     "iopub.status.busy": "2023-12-07T10:35:25.923512Z",
     "iopub.status.idle": "2023-12-07T10:35:26.179249Z",
     "shell.execute_reply": "2023-12-07T10:35:26.178666Z",
     "shell.execute_reply.started": "2023-12-07T10:35:25.923799Z"
    }
   },
   "outputs": [],
   "source": [
    "builder = MultiEmbeddingTransformerBuilder()\n",
    "\n",
    "seed_everything(seed=12)\n",
    "\n",
    "model_name = 'microsoft/mpnet-base'\n",
    "transformer_config = {\n",
    "    'hidden_size': 256,\n",
    "    'num_hidden_layers': 12,\n",
    "    'num_attention_heads': 4,\n",
    "    'intermediate_size': 756,\n",
    "    'attention_probs_dropout_prob': 0.1,\n",
    "    'hidden_dropout_prob': 0.1,\n",
    "    'output_hidden_states': True\n",
    "}\n",
    "\n",
    "multi_emb_transformer_input_frame = {\n",
    "    'pos_max_lengths': [500, 500], # Front position, Back position\n",
    "    'pos_embedding_dims': [128, 128],\n",
    "    'categorical_sizes': [5, 4, 3], # Sequence, Structure, Experiment_id\n",
    "    'categorical_emb_dims': [128, 64, 64],\n",
    "    'skip_emb_size': 0,\n",
    "    'continuous_feature_in': 0,\n",
    "    'continuous_feature_out': 0,\n",
    "}\n",
    "\n",
    "multi_emb_former = builder.build(\n",
    "    model_name=model_name, \n",
    "    config=transformer_config, \n",
    "    multi_emb_transformer_input_frame=multi_emb_transformer_input_frame,\n",
    ")\n",
    "\n",
    "d_emb = transformer_config[\"hidden_size\"]"
   ]
  },
  {
   "cell_type": "markdown",
   "metadata": {},
   "source": [
    "4. Regression Heads and Losses\n",
    "    - We want to implement many tasks and output shapes.\n",
    "    - For the cleaner implementation, we implement them in lists together.\n",
    "    - The loss weight can be easily set and editted using the variable loss_weight."
   ]
  },
  {
   "cell_type": "code",
   "execution_count": 53,
   "metadata": {
    "execution": {
     "iopub.execute_input": "2023-12-07T10:35:32.041428Z",
     "iopub.status.busy": "2023-12-07T10:35:32.041152Z",
     "iopub.status.idle": "2023-12-07T10:35:32.076496Z",
     "shell.execute_reply": "2023-12-07T10:35:32.075919Z",
     "shell.execute_reply.started": "2023-12-07T10:35:32.041408Z"
    }
   },
   "outputs": [],
   "source": [
    "regression_heads = [\n",
    "    RegressionHead(input_size=d_emb, output_size=2), # nan_position prediction\n",
    "    RegressionHead(input_size=d_emb, output_size=2, pool=True), # signal_to_noise, reads prediction\n",
    "    RegressionHead(input_size=d_emb, output_size=1), # error prediction\n",
    "    RegressionHead(input_size=d_emb, output_size=1) # reactivity prediction\n",
    "]\n",
    "\n",
    "crimsonformer = Crimsonformer(\n",
    "    multi_embedding_transformer=multi_emb_former,\n",
    "    regression_heads=regression_heads\n",
    ").to(device)\n",
    "\n",
    "criterions = [\n",
    "    FlattenLoss(nn.CrossEntropyLoss()),\n",
    "    NanProofLoss(nn.L1Loss()),\n",
    "    NanProofLoss(nn.L1Loss()),\n",
    "    NanProofLoss(nn.L1Loss()),\n",
    "]\n",
    "\n",
    "loss_weight = [0.1, 0.1, 0.2, 0.6]"
   ]
  },
  {
   "cell_type": "markdown",
   "metadata": {},
   "source": [
    "## Training"
   ]
  },
  {
   "cell_type": "markdown",
   "metadata": {},
   "source": [
    "1. Optimizer and Scheduler\n",
    "    - Just a normal setup\n",
    "\n",
    "2. LossLogger\n",
    "    - We will monitor the losses.\n",
    "    - We have 2 * 4 losses (tran or validataion * 4 tasks)\n",
    "    - For the cleaner code, we use LossLogger to collect and process the losses"
   ]
  },
  {
   "cell_type": "code",
   "execution_count": 56,
   "metadata": {
    "execution": {
     "iopub.execute_input": "2023-12-07T10:35:43.385370Z",
     "iopub.status.busy": "2023-12-07T10:35:43.385105Z",
     "iopub.status.idle": "2023-12-07T10:35:43.390229Z",
     "shell.execute_reply": "2023-12-07T10:35:43.389546Z",
     "shell.execute_reply.started": "2023-12-07T10:35:43.385350Z"
    }
   },
   "outputs": [],
   "source": [
    "optimizer = torch.optim.AdamW(crimsonformer.parameters(), lr=0.0001)\n",
    "scheduler = StepLR(optimizer, step_size=1, gamma=0.99)\n",
    "\n",
    "train_logger = LossLogger()\n",
    "val_logger = LossLogger()"
   ]
  },
  {
   "cell_type": "markdown",
   "metadata": {},
   "source": [
    "3. Load Data from a mini batch\n",
    "    - We have many different input data, and label data.\n",
    "    - We encapsulate all the batch data processes using create_batch function."
   ]
  },
  {
   "cell_type": "code",
   "execution_count": 57,
   "metadata": {
    "execution": {
     "iopub.execute_input": "2023-12-07T10:35:44.495769Z",
     "iopub.status.busy": "2023-12-07T10:35:44.495512Z",
     "iopub.status.idle": "2023-12-07T10:35:44.500088Z",
     "shell.execute_reply": "2023-12-07T10:35:44.499408Z",
     "shell.execute_reply.started": "2023-12-07T10:35:44.495750Z"
    }
   },
   "outputs": [],
   "source": [
    "def create_batch(tensor_dict):\n",
    "\n",
    "    split_position_ids = [\n",
    "        tensor_dict[\"front_position_ids\"],\n",
    "        tensor_dict[\"back_position_ids\"],\n",
    "    ]\n",
    "\n",
    "    split_categorical_ids = [\n",
    "        tensor_dict[\"sequence_ids\"],\n",
    "        tensor_dict[\"structure_ids\"],\n",
    "        tensor_dict[\"experiment_ids\"],\n",
    "    ]\n",
    "\n",
    "    labels = [\n",
    "        tensor_dict[\"nan_position\"],\n",
    "        torch.stack([tensor_dict[\"signal_to_noise_log\"], tensor_dict[\"reads_log\"]], dim=-1),\n",
    "        tensor_dict[\"error\"],\n",
    "        tensor_dict[\"reactivity\"],\n",
    "    ]\n",
    "\n",
    "    batch = {\n",
    "        \"position\":split_position_ids,\n",
    "        \"category\":split_categorical_ids,\n",
    "        \"label\":labels\n",
    "    }\n",
    "\n",
    "    return batch"
   ]
  },
  {
   "cell_type": "markdown",
   "metadata": {},
   "source": [
    "4. Encapsulate the train(validation) loop\n",
    "\n",
    "    - Simplify the training process by defining the do_step function.\n",
    "\n",
    "    - It includes only 3 functionalities\n",
    "\n",
    "        - training or validation\n",
    "\n",
    "        - logger updating\n",
    "        \n",
    "        - process monitoring"
   ]
  },
  {
   "cell_type": "code",
   "execution_count": 58,
   "metadata": {
    "execution": {
     "iopub.execute_input": "2023-12-07T10:35:46.906370Z",
     "iopub.status.busy": "2023-12-07T10:35:46.906080Z",
     "iopub.status.idle": "2023-12-07T10:35:46.913071Z",
     "shell.execute_reply": "2023-12-07T10:35:46.912289Z",
     "shell.execute_reply.started": "2023-12-07T10:35:46.906349Z"
    }
   },
   "outputs": [],
   "source": [
    "def do_step(model, tensor_list, logger, mode, optimizer=None, scheduler=None):\n",
    "\n",
    "    if mode==\"train\":\n",
    "        model.train()\n",
    "        np.random.shuffle(train_list)\n",
    "    elif mode==\"validation\":\n",
    "        model.eval()\n",
    "\n",
    "    np.random.shuffle(tensor_list)\n",
    "    tqdm_bar = tqdm(tensor_list)\n",
    "\n",
    "    with torch.set_grad_enabled(mode == \"train\"):\n",
    "        for batch in tqdm_bar:\n",
    "            batch = dict_to_device(batch,  device)\n",
    "            batch_tensor = create_batch(batch)\n",
    "            \n",
    "            split_position_ids = batch_tensor[\"position\"]\n",
    "            split_categorical_ids = batch_tensor[\"category\"]\n",
    "            labels = batch_tensor[\"label\"]\n",
    "\n",
    "            outputs = model.forward(\n",
    "                split_position_ids=split_position_ids, \n",
    "                split_categorical_ids=split_categorical_ids\n",
    "            )\n",
    "\n",
    "            if mode==\"train\":\n",
    "                labels[3] = labels[3].clamp(-0.5, 2)\n",
    "            elif mode==\"validation\":\n",
    "                outputs[3] = outputs[3].clamp(0, 1)\n",
    "                labels[3] = labels[3].clamp(0, 1)\n",
    "\n",
    "            loss, losses_item = combined_loss(criterions=criterions, preds=outputs, labels=labels, loss_weights=loss_weight)\n",
    "            \n",
    "            if mode==\"train\":\n",
    "                optimizer.zero_grad()\n",
    "                loss.backward()\n",
    "                optimizer.step()\n",
    "\n",
    "            logger.batch_step(losses=losses_item, labels=[\"Nan Loss\", \"SN Loss\", \"Error Loss\", \"Reactivity Loss\"])\n",
    "\n",
    "            tqdm_bar.set_postfix(\n",
    "                logger.batch_loss_dict,\n",
    "                refresh=True\n",
    "            )\n",
    "\n",
    "    if mode==\"train\":\n",
    "        scheduler.step()\n",
    "    logger.epoch_step()"
   ]
  },
  {
   "cell_type": "markdown",
   "metadata": {},
   "source": [
    "5. Stepwise Validation\n",
    "\n",
    "    - If the data is too big, the interval between epochs is too long.\\\n",
    "    \n",
    "    - We just add a split_list_to_chunks function to devide an epoch\\\n",
    "\n",
    "    - Therefore, we can use the do_step function flexibly, (with part of train_list, but with whole val_list)\n",
    "\n",
    "\n",
    "6. Visualization\n",
    "\n",
    "    - The loss histoy is accumulated by loss loggers in a organized form.\n",
    "\n",
    "    - We make a display_progress function to monitor the progress.\n",
    "\n",
    "    - Using clear_output, we have the fixed number of plots to monitor the process.\n",
    "                                                                                                    \n",
    "    - In this example, I displayed only losses.\n",
    "\n",
    "    - However, we can visualize the comparison of the outputs and labels, gradients, and so on.\n",
    "    \n",
    "    - For each theme, we'd better define different loggers, and different plot functions. (as we use plot_losses and LossLogger in this example)\n",
    "\n",
    "\n",
    "7. Comparison pred vs label\n",
    "\n",
    "    - Because of local minimums, the validation loss alone is not reliable.\n",
    "\n",
    "    - Visualize at lease one comparison between the prediction and the label."
   ]
  },
  {
   "cell_type": "code",
   "execution_count": 59,
   "metadata": {
    "execution": {
     "iopub.execute_input": "2023-12-07T10:35:48.605564Z",
     "iopub.status.busy": "2023-12-07T10:35:48.604754Z",
     "iopub.status.idle": "2023-12-07T10:35:51.222908Z",
     "shell.execute_reply": "2023-12-07T10:35:51.222123Z",
     "shell.execute_reply.started": "2023-12-07T10:35:48.605538Z"
    }
   },
   "outputs": [],
   "source": [
    "%%capture\n",
    "!pip install plotly"
   ]
  },
  {
   "cell_type": "code",
   "execution_count": 60,
   "metadata": {
    "execution": {
     "iopub.execute_input": "2023-12-07T10:35:51.702059Z",
     "iopub.status.busy": "2023-12-07T10:35:51.701101Z",
     "iopub.status.idle": "2023-12-07T10:35:51.710875Z",
     "shell.execute_reply": "2023-12-07T10:35:51.710413Z",
     "shell.execute_reply.started": "2023-12-07T10:35:51.702027Z"
    }
   },
   "outputs": [],
   "source": [
    "from IPython import display\n",
    "import plotly.graph_objects as go\n",
    "\n",
    "def plot_losses(losses_dict, second_axis_keys=[], title=None, figsize=(600, 400)):\n",
    "    \"\"\"\n",
    "    Plots the loss curves from a dictionary of losses using Plotly, with hover functionality\n",
    "    and the option to plot some losses on a second y-axis.\n",
    "    \n",
    "    Parameters:\n",
    "    losses_dict (dict): A dictionary where keys are the names of the losses \n",
    "                        and values are lists of loss values.\n",
    "    second_axis_keys (list): List of keys to be plotted on a second y-axis.\n",
    "    title (str, optional): Title of the plot.\n",
    "    figsize (tuple): Size of the figure (width, height) in pixels.\n",
    "    \"\"\"\n",
    "    # Create figure with secondary y-axis\n",
    "    fig = go.Figure()\n",
    "\n",
    "    # Adding traces for the first y-axis\n",
    "    for loss_name, loss_values in losses_dict.items():\n",
    "        if loss_name not in second_axis_keys:\n",
    "            fig.add_trace(go.Scatter(x=list(range(len(loss_values))), y=loss_values, mode='lines', name=loss_name))\n",
    "\n",
    "    # Adding traces for the second y-axis\n",
    "    if second_axis_keys:\n",
    "        for key in second_axis_keys:\n",
    "            if key in losses_dict:\n",
    "                fig.add_trace(go.Scatter(x=list(range(len(losses_dict[key]))), y=losses_dict[key], mode='lines', name=key, yaxis=\"y2\", line=dict(width=2, dash='dash')))\n",
    "\n",
    "        # Create axis objects\n",
    "        fig.update_layout(\n",
    "            yaxis2=dict(\n",
    "                title=\"Second Metric\",\n",
    "                overlaying=\"y\",\n",
    "                side=\"right\"\n",
    "            )\n",
    "        )\n",
    "\n",
    "    # Update layout with figure size\n",
    "    fig.update_layout(\n",
    "        title=title or \"Loss Curves\",\n",
    "        xaxis_title=\"Epochs\",\n",
    "        yaxis_title=\"Loss\",\n",
    "        legend_title=\"Legend\",\n",
    "        hovermode=\"closest\",\n",
    "        width=figsize[0],  # Width of the figure\n",
    "        height=figsize[1]  # Height of the figure\n",
    "    )\n",
    "\n",
    "    fig.show()\n",
    "\n",
    "\n",
    "def display_progress(train_logger, val_logger, second_axis_keys, clear_output=True, fig_size=(600, 400)):\n",
    "    if clear_output:\n",
    "        display.clear_output(True)\n",
    "    plot_losses(train_logger.epoch_losses_dict, second_axis_keys=second_axis_keys , title=\"Train Losses\", figsize=fig_size)\n",
    "    plot_losses(val_logger.epoch_losses_dict, second_axis_keys=second_axis_keys, title=\"Validation Losses\", figsize=fig_size)"
   ]
  },
  {
   "cell_type": "code",
   "execution_count": 61,
   "metadata": {
    "execution": {
     "iopub.execute_input": "2023-12-07T10:35:54.181296Z",
     "iopub.status.busy": "2023-12-07T10:35:54.180643Z",
     "iopub.status.idle": "2023-12-07T10:35:54.184643Z",
     "shell.execute_reply": "2023-12-07T10:35:54.184140Z",
     "shell.execute_reply.started": "2023-12-07T10:35:54.181269Z"
    }
   },
   "outputs": [],
   "source": [
    "def split_list_to_chunks(input_list, n, shuffle=True):\n",
    "    if shuffle:                                                                                                         \n",
    "        np.random.shuffle(input_list)\n",
    "    chunk_size = len(input_list) // n\n",
    "    return [input_list[i:i + chunk_size] for i in range(0, len(input_list), chunk_size)]"
   ]
  },
  {
   "cell_type": "code",
   "execution_count": 62,
   "metadata": {
    "execution": {
     "iopub.execute_input": "2023-12-07T10:35:55.842902Z",
     "iopub.status.busy": "2023-12-07T10:35:55.841940Z",
     "iopub.status.idle": "2023-12-07T10:35:55.848731Z",
     "shell.execute_reply": "2023-12-07T10:35:55.848179Z",
     "shell.execute_reply.started": "2023-12-07T10:35:55.842873Z"
    }
   },
   "outputs": [],
   "source": [
    "def predict(model, tensor_list, is_label=True):\n",
    "\n",
    "    model.eval()\n",
    "    pred_list = []\n",
    "    label_list = []\n",
    "\n",
    "    tqdm_bar = tqdm(tensor_list)\n",
    "    with torch.no_grad():\n",
    "        for batch in tqdm_bar:\n",
    "            batch = dict_to_device(batch, device)\n",
    "            batch_tensor = create_batch(batch)\n",
    "\n",
    "            split_position_ids = batch_tensor[\"position\"]\n",
    "            split_categorical_ids = batch_tensor[\"category\"]\n",
    "\n",
    "            outputs = model.forward(\n",
    "                split_position_ids=split_position_ids, \n",
    "                split_categorical_ids=split_categorical_ids\n",
    "            )\n",
    "\n",
    "            outputs[3] = outputs[3].clamp(0, 1)\n",
    "            pred_list.append(outputs[3].detach().cpu().numpy())\n",
    "\n",
    "            if is_label:\n",
    "                labels = batch_tensor[\"label\"]\n",
    "                labels[3] = labels[3].clamp(0, 1)\n",
    "                label_list.append(labels[3].detach().cpu().numpy())\n",
    "\n",
    "    if is_label:\n",
    "        return pred_list, label_list\n",
    "    else:\n",
    "        return pred_list"
   ]
  },
  {
   "cell_type": "code",
   "execution_count": 24,
   "metadata": {
    "execution": {
     "iopub.execute_input": "2023-12-07T10:27:57.455122Z",
     "iopub.status.busy": "2023-12-07T10:27:57.454441Z",
     "iopub.status.idle": "2023-12-07T10:27:57.459302Z",
     "shell.execute_reply": "2023-12-07T10:27:57.458834Z",
     "shell.execute_reply.started": "2023-12-07T10:27:57.455096Z"
    }
   },
   "outputs": [],
   "source": [
    "def plot_pred_vs_label(pred, label, grid_height, grid_width):\n",
    "    n = grid_height * grid_width  # Total number of plots\n",
    "    fig, axs = plt.subplots(grid_height, grid_width, figsize=(grid_width * 5, grid_height * 4))\n",
    "\n",
    "    for i in range(n):\n",
    "        row = i // grid_width\n",
    "        col = i % grid_width\n",
    "\n",
    "        # Plot on the specified subplot\n",
    "        axs[row, col].plot(pred[i, :], label='Prediction')\n",
    "        axs[row, col].plot(label[i, :], label='Label')\n",
    "        axs[row, col].set_title(f'Graph {i+1}')\n",
    "        axs[row, col].set_xlabel('Index')\n",
    "        axs[row, col].set_ylabel('Value')\n",
    "        axs[row, col].legend()\n",
    "\n",
    "    plt.tight_layout()\n",
    "    plt.show()\n"
   ]
  },
  {
   "cell_type": "code",
   "execution_count": 63,
   "metadata": {
    "execution": {
     "iopub.execute_input": "2023-12-07T10:35:59.482476Z",
     "iopub.status.busy": "2023-12-07T10:35:59.481815Z",
     "iopub.status.idle": "2023-12-07T10:39:25.087650Z",
     "shell.execute_reply": "2023-12-07T10:39:25.087106Z",
     "shell.execute_reply.started": "2023-12-07T10:35:59.482452Z"
    }
   },
   "outputs": [
    {
     "data": {
      "application/vnd.plotly.v1+json": {
       "config": {
        "plotlyServerURL": "https://plot.ly"
       },
       "data": [
        {
         "mode": "lines",
         "name": "Reactivity Loss",
         "type": "scatter",
         "x": [
          0,
          1,
          2,
          3,
          4,
          5,
          6,
          7,
          8,
          9,
          10,
          11,
          12,
          13,
          14,
          15,
          16,
          17,
          18,
          19,
          20,
          21,
          22,
          23,
          24,
          25,
          26,
          27,
          28,
          29,
          30,
          31,
          32,
          33,
          34,
          35,
          36,
          37,
          38,
          39
         ],
         "y": [
          0.2933393312912238,
          0.26180000760053335,
          0.2716419257615742,
          0.23150824010372162,
          0.2724645467180955,
          0.26856959454323115,
          0.26517236899388463,
          0.24166636914014816,
          0.2600683495402336,
          0.26563755030694763,
          0.26121089254554947,
          0.24165119975805283,
          0.25701620821890075,
          0.25769177118414327,
          0.26349962541931554,
          0.25286971032619476,
          0.2607922354026845,
          0.24561476825099243,
          0.27107270336464834,
          0.2094530537724495,
          0.26157157515224655,
          0.25634765899495077,
          0.25197092129995946,
          0.1873006671667099,
          0.25730114900752116,
          0.24799586009038121,
          0.2517050485077657,
          0.23305810242891312,
          0.24571731921873594,
          0.2488964882336165,
          0.25183449646359995,
          0.224005788564682,
          0.24525753134175352,
          0.23672254932554146,
          0.2516469637814321,
          0.26787708699703217,
          0.24240452874647944,
          0.24071330224212847,
          0.241486830538825,
          0.2537638172507286
         ]
        },
        {
         "line": {
          "dash": "dash",
          "width": 2
         },
         "mode": "lines",
         "name": "Nan Loss",
         "type": "scatter",
         "x": [
          0,
          1,
          2,
          3,
          4,
          5,
          6,
          7,
          8,
          9,
          10,
          11,
          12,
          13,
          14,
          15,
          16,
          17,
          18,
          19,
          20,
          21,
          22,
          23,
          24,
          25,
          26,
          27,
          28,
          29,
          30,
          31,
          32,
          33,
          34,
          35,
          36,
          37,
          38,
          39
         ],
         "y": [
          0.6619181632995605,
          0.5731011785958943,
          0.47936042123719264,
          0.39507149159908295,
          0.3464056802423377,
          0.24438545382336566,
          0.1665458030214435,
          0.12765134125947952,
          0.13284716264981972,
          0.11293039627765354,
          0.09349154220207741,
          0.10169363021850586,
          0.08190270934842135,
          0.0750485323369503,
          0.0720838712234246,
          0.04446977749466896,
          0.05987675345845913,
          0.05098915453019895,
          0.0592125137581637,
          0.036347596906125546,
          0.04946031803755384,
          0.04525916758728655,
          0.036670098963536714,
          0.01920836977660656,
          0.03678073589444945,
          0.03503237336285805,
          0.03163319333505474,
          0.03433775529265404,
          0.028799269250348994,
          0.03126487567236549,
          0.024335288467179788,
          0.013998997397720814,
          0.023186847420507355,
          0.02235124529780526,
          0.027918087122471708,
          0.034943003207445145,
          0.021045208822837787,
          0.019641894920680084,
          0.01963220888405646,
          0.015240296721458435
         ],
         "yaxis": "y2"
        },
        {
         "line": {
          "dash": "dash",
          "width": 2
         },
         "mode": "lines",
         "name": "SN Loss",
         "type": "scatter",
         "x": [
          0,
          1,
          2,
          3,
          4,
          5,
          6,
          7,
          8,
          9,
          10,
          11,
          12,
          13,
          14,
          15,
          16,
          17,
          18,
          19,
          20,
          21,
          22,
          23,
          24,
          25,
          26,
          27,
          28,
          29,
          30,
          31,
          32,
          33,
          34,
          35,
          36,
          37,
          38,
          39
         ],
         "y": [
          5.208930492401123,
          4.176586872652957,
          2.8155216009993302,
          2.225520610809326,
          1.4804679029866268,
          1.167580590436333,
          1.0880295304875625,
          1.1435416638851166,
          1.0214573552733974,
          1.143072242799558,
          1.1904548626197011,
          0.9123050570487976,
          0.9686146849080136,
          1.1470107498921847,
          1.1491972239393937,
          0.912694901227951,
          1.0793923265055607,
          0.9372030794620514,
          0.8818114501865286,
          0.9488754272460938,
          0.8353917081105081,
          0.7992521477373022,
          0.8481638172739431,
          0.7338733375072479,
          0.8234836678755911,
          0.8113575169914647,
          0.732099777773807,
          0.7917734384536743,
          0.7388824600922433,
          0.7329514905026084,
          0.7693536752148679,
          0.8609660565853119,
          0.7610040777607968,
          0.7356174988181967,
          0.7327918222076014,
          0.4888353496789932,
          0.7198791268624758,
          0.7183588319703152,
          0.7239233922017249,
          0.8728872835636139
         ],
         "yaxis": "y2"
        },
        {
         "line": {
          "dash": "dash",
          "width": 2
         },
         "mode": "lines",
         "name": "Error Loss",
         "type": "scatter",
         "x": [
          0,
          1,
          2,
          3,
          4,
          5,
          6,
          7,
          8,
          9,
          10,
          11,
          12,
          13,
          14,
          15,
          16,
          17,
          18,
          19,
          20,
          21,
          22,
          23,
          24,
          25,
          26,
          27,
          28,
          29,
          30,
          31,
          32,
          33,
          34,
          35,
          36,
          37,
          38,
          39
         ],
         "y": [
          0.10864172434728396,
          0.10435978396746673,
          0.09640523457997724,
          0.06429174542427063,
          0.09154994408354948,
          0.10879570333973358,
          0.08298447159560103,
          0.08253747597336769,
          0.08929636447053206,
          0.09256061362592798,
          0.10138128011634476,
          0.04287308268249035,
          0.07637906358822395,
          0.09463620548577685,
          0.09892009580998044,
          0.18622172251343727,
          0.09589372104720066,
          0.06858030804678013,
          0.10134454414640602,
          0.05309613421559334,
          0.08595351227804233,
          0.08603873045036667,
          0.08130898150174241,
          0.05303744226694107,
          0.08948624624233496,
          0.08154562821513728,
          0.0733228015076173,
          0.08926288597285748,
          0.08292628932548196,
          0.07626845751349863,
          0.08362591619554319,
          0.0530368946492672,
          0.07330524254786341,
          0.07642890615878921,
          0.08483459820088587,
          0.15830334275960922,
          0.0723322699532697,
          0.08199840862500041,
          0.08096811410627867,
          0.06911680102348328
         ],
         "yaxis": "y2"
        }
       ],
       "layout": {
        "height": 400,
        "hovermode": "closest",
        "legend": {
         "title": {
          "text": "Legend"
         }
        },
        "template": {
         "data": {
          "bar": [
           {
            "error_x": {
             "color": "#2a3f5f"
            },
            "error_y": {
             "color": "#2a3f5f"
            },
            "marker": {
             "line": {
              "color": "#E5ECF6",
              "width": 0.5
             },
             "pattern": {
              "fillmode": "overlay",
              "size": 10,
              "solidity": 0.2
             }
            },
            "type": "bar"
           }
          ],
          "barpolar": [
           {
            "marker": {
             "line": {
              "color": "#E5ECF6",
              "width": 0.5
             },
             "pattern": {
              "fillmode": "overlay",
              "size": 10,
              "solidity": 0.2
             }
            },
            "type": "barpolar"
           }
          ],
          "carpet": [
           {
            "aaxis": {
             "endlinecolor": "#2a3f5f",
             "gridcolor": "white",
             "linecolor": "white",
             "minorgridcolor": "white",
             "startlinecolor": "#2a3f5f"
            },
            "baxis": {
             "endlinecolor": "#2a3f5f",
             "gridcolor": "white",
             "linecolor": "white",
             "minorgridcolor": "white",
             "startlinecolor": "#2a3f5f"
            },
            "type": "carpet"
           }
          ],
          "choropleth": [
           {
            "colorbar": {
             "outlinewidth": 0,
             "ticks": ""
            },
            "type": "choropleth"
           }
          ],
          "contour": [
           {
            "colorbar": {
             "outlinewidth": 0,
             "ticks": ""
            },
            "colorscale": [
             [
              0,
              "#0d0887"
             ],
             [
              0.1111111111111111,
              "#46039f"
             ],
             [
              0.2222222222222222,
              "#7201a8"
             ],
             [
              0.3333333333333333,
              "#9c179e"
             ],
             [
              0.4444444444444444,
              "#bd3786"
             ],
             [
              0.5555555555555556,
              "#d8576b"
             ],
             [
              0.6666666666666666,
              "#ed7953"
             ],
             [
              0.7777777777777778,
              "#fb9f3a"
             ],
             [
              0.8888888888888888,
              "#fdca26"
             ],
             [
              1,
              "#f0f921"
             ]
            ],
            "type": "contour"
           }
          ],
          "contourcarpet": [
           {
            "colorbar": {
             "outlinewidth": 0,
             "ticks": ""
            },
            "type": "contourcarpet"
           }
          ],
          "heatmap": [
           {
            "colorbar": {
             "outlinewidth": 0,
             "ticks": ""
            },
            "colorscale": [
             [
              0,
              "#0d0887"
             ],
             [
              0.1111111111111111,
              "#46039f"
             ],
             [
              0.2222222222222222,
              "#7201a8"
             ],
             [
              0.3333333333333333,
              "#9c179e"
             ],
             [
              0.4444444444444444,
              "#bd3786"
             ],
             [
              0.5555555555555556,
              "#d8576b"
             ],
             [
              0.6666666666666666,
              "#ed7953"
             ],
             [
              0.7777777777777778,
              "#fb9f3a"
             ],
             [
              0.8888888888888888,
              "#fdca26"
             ],
             [
              1,
              "#f0f921"
             ]
            ],
            "type": "heatmap"
           }
          ],
          "heatmapgl": [
           {
            "colorbar": {
             "outlinewidth": 0,
             "ticks": ""
            },
            "colorscale": [
             [
              0,
              "#0d0887"
             ],
             [
              0.1111111111111111,
              "#46039f"
             ],
             [
              0.2222222222222222,
              "#7201a8"
             ],
             [
              0.3333333333333333,
              "#9c179e"
             ],
             [
              0.4444444444444444,
              "#bd3786"
             ],
             [
              0.5555555555555556,
              "#d8576b"
             ],
             [
              0.6666666666666666,
              "#ed7953"
             ],
             [
              0.7777777777777778,
              "#fb9f3a"
             ],
             [
              0.8888888888888888,
              "#fdca26"
             ],
             [
              1,
              "#f0f921"
             ]
            ],
            "type": "heatmapgl"
           }
          ],
          "histogram": [
           {
            "marker": {
             "pattern": {
              "fillmode": "overlay",
              "size": 10,
              "solidity": 0.2
             }
            },
            "type": "histogram"
           }
          ],
          "histogram2d": [
           {
            "colorbar": {
             "outlinewidth": 0,
             "ticks": ""
            },
            "colorscale": [
             [
              0,
              "#0d0887"
             ],
             [
              0.1111111111111111,
              "#46039f"
             ],
             [
              0.2222222222222222,
              "#7201a8"
             ],
             [
              0.3333333333333333,
              "#9c179e"
             ],
             [
              0.4444444444444444,
              "#bd3786"
             ],
             [
              0.5555555555555556,
              "#d8576b"
             ],
             [
              0.6666666666666666,
              "#ed7953"
             ],
             [
              0.7777777777777778,
              "#fb9f3a"
             ],
             [
              0.8888888888888888,
              "#fdca26"
             ],
             [
              1,
              "#f0f921"
             ]
            ],
            "type": "histogram2d"
           }
          ],
          "histogram2dcontour": [
           {
            "colorbar": {
             "outlinewidth": 0,
             "ticks": ""
            },
            "colorscale": [
             [
              0,
              "#0d0887"
             ],
             [
              0.1111111111111111,
              "#46039f"
             ],
             [
              0.2222222222222222,
              "#7201a8"
             ],
             [
              0.3333333333333333,
              "#9c179e"
             ],
             [
              0.4444444444444444,
              "#bd3786"
             ],
             [
              0.5555555555555556,
              "#d8576b"
             ],
             [
              0.6666666666666666,
              "#ed7953"
             ],
             [
              0.7777777777777778,
              "#fb9f3a"
             ],
             [
              0.8888888888888888,
              "#fdca26"
             ],
             [
              1,
              "#f0f921"
             ]
            ],
            "type": "histogram2dcontour"
           }
          ],
          "mesh3d": [
           {
            "colorbar": {
             "outlinewidth": 0,
             "ticks": ""
            },
            "type": "mesh3d"
           }
          ],
          "parcoords": [
           {
            "line": {
             "colorbar": {
              "outlinewidth": 0,
              "ticks": ""
             }
            },
            "type": "parcoords"
           }
          ],
          "pie": [
           {
            "automargin": true,
            "type": "pie"
           }
          ],
          "scatter": [
           {
            "fillpattern": {
             "fillmode": "overlay",
             "size": 10,
             "solidity": 0.2
            },
            "type": "scatter"
           }
          ],
          "scatter3d": [
           {
            "line": {
             "colorbar": {
              "outlinewidth": 0,
              "ticks": ""
             }
            },
            "marker": {
             "colorbar": {
              "outlinewidth": 0,
              "ticks": ""
             }
            },
            "type": "scatter3d"
           }
          ],
          "scattercarpet": [
           {
            "marker": {
             "colorbar": {
              "outlinewidth": 0,
              "ticks": ""
             }
            },
            "type": "scattercarpet"
           }
          ],
          "scattergeo": [
           {
            "marker": {
             "colorbar": {
              "outlinewidth": 0,
              "ticks": ""
             }
            },
            "type": "scattergeo"
           }
          ],
          "scattergl": [
           {
            "marker": {
             "colorbar": {
              "outlinewidth": 0,
              "ticks": ""
             }
            },
            "type": "scattergl"
           }
          ],
          "scattermapbox": [
           {
            "marker": {
             "colorbar": {
              "outlinewidth": 0,
              "ticks": ""
             }
            },
            "type": "scattermapbox"
           }
          ],
          "scatterpolar": [
           {
            "marker": {
             "colorbar": {
              "outlinewidth": 0,
              "ticks": ""
             }
            },
            "type": "scatterpolar"
           }
          ],
          "scatterpolargl": [
           {
            "marker": {
             "colorbar": {
              "outlinewidth": 0,
              "ticks": ""
             }
            },
            "type": "scatterpolargl"
           }
          ],
          "scatterternary": [
           {
            "marker": {
             "colorbar": {
              "outlinewidth": 0,
              "ticks": ""
             }
            },
            "type": "scatterternary"
           }
          ],
          "surface": [
           {
            "colorbar": {
             "outlinewidth": 0,
             "ticks": ""
            },
            "colorscale": [
             [
              0,
              "#0d0887"
             ],
             [
              0.1111111111111111,
              "#46039f"
             ],
             [
              0.2222222222222222,
              "#7201a8"
             ],
             [
              0.3333333333333333,
              "#9c179e"
             ],
             [
              0.4444444444444444,
              "#bd3786"
             ],
             [
              0.5555555555555556,
              "#d8576b"
             ],
             [
              0.6666666666666666,
              "#ed7953"
             ],
             [
              0.7777777777777778,
              "#fb9f3a"
             ],
             [
              0.8888888888888888,
              "#fdca26"
             ],
             [
              1,
              "#f0f921"
             ]
            ],
            "type": "surface"
           }
          ],
          "table": [
           {
            "cells": {
             "fill": {
              "color": "#EBF0F8"
             },
             "line": {
              "color": "white"
             }
            },
            "header": {
             "fill": {
              "color": "#C8D4E3"
             },
             "line": {
              "color": "white"
             }
            },
            "type": "table"
           }
          ]
         },
         "layout": {
          "annotationdefaults": {
           "arrowcolor": "#2a3f5f",
           "arrowhead": 0,
           "arrowwidth": 1
          },
          "autotypenumbers": "strict",
          "coloraxis": {
           "colorbar": {
            "outlinewidth": 0,
            "ticks": ""
           }
          },
          "colorscale": {
           "diverging": [
            [
             0,
             "#8e0152"
            ],
            [
             0.1,
             "#c51b7d"
            ],
            [
             0.2,
             "#de77ae"
            ],
            [
             0.3,
             "#f1b6da"
            ],
            [
             0.4,
             "#fde0ef"
            ],
            [
             0.5,
             "#f7f7f7"
            ],
            [
             0.6,
             "#e6f5d0"
            ],
            [
             0.7,
             "#b8e186"
            ],
            [
             0.8,
             "#7fbc41"
            ],
            [
             0.9,
             "#4d9221"
            ],
            [
             1,
             "#276419"
            ]
           ],
           "sequential": [
            [
             0,
             "#0d0887"
            ],
            [
             0.1111111111111111,
             "#46039f"
            ],
            [
             0.2222222222222222,
             "#7201a8"
            ],
            [
             0.3333333333333333,
             "#9c179e"
            ],
            [
             0.4444444444444444,
             "#bd3786"
            ],
            [
             0.5555555555555556,
             "#d8576b"
            ],
            [
             0.6666666666666666,
             "#ed7953"
            ],
            [
             0.7777777777777778,
             "#fb9f3a"
            ],
            [
             0.8888888888888888,
             "#fdca26"
            ],
            [
             1,
             "#f0f921"
            ]
           ],
           "sequentialminus": [
            [
             0,
             "#0d0887"
            ],
            [
             0.1111111111111111,
             "#46039f"
            ],
            [
             0.2222222222222222,
             "#7201a8"
            ],
            [
             0.3333333333333333,
             "#9c179e"
            ],
            [
             0.4444444444444444,
             "#bd3786"
            ],
            [
             0.5555555555555556,
             "#d8576b"
            ],
            [
             0.6666666666666666,
             "#ed7953"
            ],
            [
             0.7777777777777778,
             "#fb9f3a"
            ],
            [
             0.8888888888888888,
             "#fdca26"
            ],
            [
             1,
             "#f0f921"
            ]
           ]
          },
          "colorway": [
           "#636efa",
           "#EF553B",
           "#00cc96",
           "#ab63fa",
           "#FFA15A",
           "#19d3f3",
           "#FF6692",
           "#B6E880",
           "#FF97FF",
           "#FECB52"
          ],
          "font": {
           "color": "#2a3f5f"
          },
          "geo": {
           "bgcolor": "white",
           "lakecolor": "white",
           "landcolor": "#E5ECF6",
           "showlakes": true,
           "showland": true,
           "subunitcolor": "white"
          },
          "hoverlabel": {
           "align": "left"
          },
          "hovermode": "closest",
          "mapbox": {
           "style": "light"
          },
          "paper_bgcolor": "white",
          "plot_bgcolor": "#E5ECF6",
          "polar": {
           "angularaxis": {
            "gridcolor": "white",
            "linecolor": "white",
            "ticks": ""
           },
           "bgcolor": "#E5ECF6",
           "radialaxis": {
            "gridcolor": "white",
            "linecolor": "white",
            "ticks": ""
           }
          },
          "scene": {
           "xaxis": {
            "backgroundcolor": "#E5ECF6",
            "gridcolor": "white",
            "gridwidth": 2,
            "linecolor": "white",
            "showbackground": true,
            "ticks": "",
            "zerolinecolor": "white"
           },
           "yaxis": {
            "backgroundcolor": "#E5ECF6",
            "gridcolor": "white",
            "gridwidth": 2,
            "linecolor": "white",
            "showbackground": true,
            "ticks": "",
            "zerolinecolor": "white"
           },
           "zaxis": {
            "backgroundcolor": "#E5ECF6",
            "gridcolor": "white",
            "gridwidth": 2,
            "linecolor": "white",
            "showbackground": true,
            "ticks": "",
            "zerolinecolor": "white"
           }
          },
          "shapedefaults": {
           "line": {
            "color": "#2a3f5f"
           }
          },
          "ternary": {
           "aaxis": {
            "gridcolor": "white",
            "linecolor": "white",
            "ticks": ""
           },
           "baxis": {
            "gridcolor": "white",
            "linecolor": "white",
            "ticks": ""
           },
           "bgcolor": "#E5ECF6",
           "caxis": {
            "gridcolor": "white",
            "linecolor": "white",
            "ticks": ""
           }
          },
          "title": {
           "x": 0.05
          },
          "xaxis": {
           "automargin": true,
           "gridcolor": "white",
           "linecolor": "white",
           "ticks": "",
           "title": {
            "standoff": 15
           },
           "zerolinecolor": "white",
           "zerolinewidth": 2
          },
          "yaxis": {
           "automargin": true,
           "gridcolor": "white",
           "linecolor": "white",
           "ticks": "",
           "title": {
            "standoff": 15
           },
           "zerolinecolor": "white",
           "zerolinewidth": 2
          }
         }
        },
        "title": {
         "text": "Train Losses"
        },
        "width": 600,
        "xaxis": {
         "title": {
          "text": "Epochs"
         }
        },
        "yaxis": {
         "title": {
          "text": "Loss"
         }
        },
        "yaxis2": {
         "overlaying": "y",
         "side": "right",
         "title": {
          "text": "Second Metric"
         }
        }
       }
      },
      "text/html": [
       "<div>                            <div id=\"edee3463-cb0e-4963-9e8a-7ddc223abbee\" class=\"plotly-graph-div\" style=\"height:400px; width:600px;\"></div>            <script type=\"text/javascript\">                require([\"plotly\"], function(Plotly) {                    window.PLOTLYENV=window.PLOTLYENV || {};                                    if (document.getElementById(\"edee3463-cb0e-4963-9e8a-7ddc223abbee\")) {                    Plotly.newPlot(                        \"edee3463-cb0e-4963-9e8a-7ddc223abbee\",                        [{\"mode\":\"lines\",\"name\":\"Reactivity Loss\",\"x\":[0,1,2,3,4,5,6,7,8,9,10,11,12,13,14,15,16,17,18,19,20,21,22,23,24,25,26,27,28,29,30,31,32,33,34,35,36,37,38,39],\"y\":[0.2933393312912238,0.26180000760053335,0.2716419257615742,0.23150824010372162,0.2724645467180955,0.26856959454323115,0.26517236899388463,0.24166636914014816,0.2600683495402336,0.26563755030694763,0.26121089254554947,0.24165119975805283,0.25701620821890075,0.25769177118414327,0.26349962541931554,0.25286971032619476,0.2607922354026845,0.24561476825099243,0.27107270336464834,0.2094530537724495,0.26157157515224655,0.25634765899495077,0.25197092129995946,0.1873006671667099,0.25730114900752116,0.24799586009038121,0.2517050485077657,0.23305810242891312,0.24571731921873594,0.2488964882336165,0.25183449646359995,0.224005788564682,0.24525753134175352,0.23672254932554146,0.2516469637814321,0.26787708699703217,0.24240452874647944,0.24071330224212847,0.241486830538825,0.2537638172507286],\"type\":\"scatter\"},{\"line\":{\"dash\":\"dash\",\"width\":2},\"mode\":\"lines\",\"name\":\"Nan Loss\",\"x\":[0,1,2,3,4,5,6,7,8,9,10,11,12,13,14,15,16,17,18,19,20,21,22,23,24,25,26,27,28,29,30,31,32,33,34,35,36,37,38,39],\"y\":[0.6619181632995605,0.5731011785958943,0.47936042123719264,0.39507149159908295,0.3464056802423377,0.24438545382336566,0.1665458030214435,0.12765134125947952,0.13284716264981972,0.11293039627765354,0.09349154220207741,0.10169363021850586,0.08190270934842135,0.0750485323369503,0.0720838712234246,0.04446977749466896,0.05987675345845913,0.05098915453019895,0.0592125137581637,0.036347596906125546,0.04946031803755384,0.04525916758728655,0.036670098963536714,0.01920836977660656,0.03678073589444945,0.03503237336285805,0.03163319333505474,0.03433775529265404,0.028799269250348994,0.03126487567236549,0.024335288467179788,0.013998997397720814,0.023186847420507355,0.02235124529780526,0.027918087122471708,0.034943003207445145,0.021045208822837787,0.019641894920680084,0.01963220888405646,0.015240296721458435],\"yaxis\":\"y2\",\"type\":\"scatter\"},{\"line\":{\"dash\":\"dash\",\"width\":2},\"mode\":\"lines\",\"name\":\"SN Loss\",\"x\":[0,1,2,3,4,5,6,7,8,9,10,11,12,13,14,15,16,17,18,19,20,21,22,23,24,25,26,27,28,29,30,31,32,33,34,35,36,37,38,39],\"y\":[5.208930492401123,4.176586872652957,2.8155216009993302,2.225520610809326,1.4804679029866268,1.167580590436333,1.0880295304875625,1.1435416638851166,1.0214573552733974,1.143072242799558,1.1904548626197011,0.9123050570487976,0.9686146849080136,1.1470107498921847,1.1491972239393937,0.912694901227951,1.0793923265055607,0.9372030794620514,0.8818114501865286,0.9488754272460938,0.8353917081105081,0.7992521477373022,0.8481638172739431,0.7338733375072479,0.8234836678755911,0.8113575169914647,0.732099777773807,0.7917734384536743,0.7388824600922433,0.7329514905026084,0.7693536752148679,0.8609660565853119,0.7610040777607968,0.7356174988181967,0.7327918222076014,0.4888353496789932,0.7198791268624758,0.7183588319703152,0.7239233922017249,0.8728872835636139],\"yaxis\":\"y2\",\"type\":\"scatter\"},{\"line\":{\"dash\":\"dash\",\"width\":2},\"mode\":\"lines\",\"name\":\"Error Loss\",\"x\":[0,1,2,3,4,5,6,7,8,9,10,11,12,13,14,15,16,17,18,19,20,21,22,23,24,25,26,27,28,29,30,31,32,33,34,35,36,37,38,39],\"y\":[0.10864172434728396,0.10435978396746673,0.09640523457997724,0.06429174542427063,0.09154994408354948,0.10879570333973358,0.08298447159560103,0.08253747597336769,0.08929636447053206,0.09256061362592798,0.10138128011634476,0.04287308268249035,0.07637906358822395,0.09463620548577685,0.09892009580998044,0.18622172251343727,0.09589372104720066,0.06858030804678013,0.10134454414640602,0.05309613421559334,0.08595351227804233,0.08603873045036667,0.08130898150174241,0.05303744226694107,0.08948624624233496,0.08154562821513728,0.0733228015076173,0.08926288597285748,0.08292628932548196,0.07626845751349863,0.08362591619554319,0.0530368946492672,0.07330524254786341,0.07642890615878921,0.08483459820088587,0.15830334275960922,0.0723322699532697,0.08199840862500041,0.08096811410627867,0.06911680102348328],\"yaxis\":\"y2\",\"type\":\"scatter\"}],                        {\"template\":{\"data\":{\"histogram2dcontour\":[{\"type\":\"histogram2dcontour\",\"colorbar\":{\"outlinewidth\":0,\"ticks\":\"\"},\"colorscale\":[[0.0,\"#0d0887\"],[0.1111111111111111,\"#46039f\"],[0.2222222222222222,\"#7201a8\"],[0.3333333333333333,\"#9c179e\"],[0.4444444444444444,\"#bd3786\"],[0.5555555555555556,\"#d8576b\"],[0.6666666666666666,\"#ed7953\"],[0.7777777777777778,\"#fb9f3a\"],[0.8888888888888888,\"#fdca26\"],[1.0,\"#f0f921\"]]}],\"choropleth\":[{\"type\":\"choropleth\",\"colorbar\":{\"outlinewidth\":0,\"ticks\":\"\"}}],\"histogram2d\":[{\"type\":\"histogram2d\",\"colorbar\":{\"outlinewidth\":0,\"ticks\":\"\"},\"colorscale\":[[0.0,\"#0d0887\"],[0.1111111111111111,\"#46039f\"],[0.2222222222222222,\"#7201a8\"],[0.3333333333333333,\"#9c179e\"],[0.4444444444444444,\"#bd3786\"],[0.5555555555555556,\"#d8576b\"],[0.6666666666666666,\"#ed7953\"],[0.7777777777777778,\"#fb9f3a\"],[0.8888888888888888,\"#fdca26\"],[1.0,\"#f0f921\"]]}],\"heatmap\":[{\"type\":\"heatmap\",\"colorbar\":{\"outlinewidth\":0,\"ticks\":\"\"},\"colorscale\":[[0.0,\"#0d0887\"],[0.1111111111111111,\"#46039f\"],[0.2222222222222222,\"#7201a8\"],[0.3333333333333333,\"#9c179e\"],[0.4444444444444444,\"#bd3786\"],[0.5555555555555556,\"#d8576b\"],[0.6666666666666666,\"#ed7953\"],[0.7777777777777778,\"#fb9f3a\"],[0.8888888888888888,\"#fdca26\"],[1.0,\"#f0f921\"]]}],\"heatmapgl\":[{\"type\":\"heatmapgl\",\"colorbar\":{\"outlinewidth\":0,\"ticks\":\"\"},\"colorscale\":[[0.0,\"#0d0887\"],[0.1111111111111111,\"#46039f\"],[0.2222222222222222,\"#7201a8\"],[0.3333333333333333,\"#9c179e\"],[0.4444444444444444,\"#bd3786\"],[0.5555555555555556,\"#d8576b\"],[0.6666666666666666,\"#ed7953\"],[0.7777777777777778,\"#fb9f3a\"],[0.8888888888888888,\"#fdca26\"],[1.0,\"#f0f921\"]]}],\"contourcarpet\":[{\"type\":\"contourcarpet\",\"colorbar\":{\"outlinewidth\":0,\"ticks\":\"\"}}],\"contour\":[{\"type\":\"contour\",\"colorbar\":{\"outlinewidth\":0,\"ticks\":\"\"},\"colorscale\":[[0.0,\"#0d0887\"],[0.1111111111111111,\"#46039f\"],[0.2222222222222222,\"#7201a8\"],[0.3333333333333333,\"#9c179e\"],[0.4444444444444444,\"#bd3786\"],[0.5555555555555556,\"#d8576b\"],[0.6666666666666666,\"#ed7953\"],[0.7777777777777778,\"#fb9f3a\"],[0.8888888888888888,\"#fdca26\"],[1.0,\"#f0f921\"]]}],\"surface\":[{\"type\":\"surface\",\"colorbar\":{\"outlinewidth\":0,\"ticks\":\"\"},\"colorscale\":[[0.0,\"#0d0887\"],[0.1111111111111111,\"#46039f\"],[0.2222222222222222,\"#7201a8\"],[0.3333333333333333,\"#9c179e\"],[0.4444444444444444,\"#bd3786\"],[0.5555555555555556,\"#d8576b\"],[0.6666666666666666,\"#ed7953\"],[0.7777777777777778,\"#fb9f3a\"],[0.8888888888888888,\"#fdca26\"],[1.0,\"#f0f921\"]]}],\"mesh3d\":[{\"type\":\"mesh3d\",\"colorbar\":{\"outlinewidth\":0,\"ticks\":\"\"}}],\"scatter\":[{\"fillpattern\":{\"fillmode\":\"overlay\",\"size\":10,\"solidity\":0.2},\"type\":\"scatter\"}],\"parcoords\":[{\"type\":\"parcoords\",\"line\":{\"colorbar\":{\"outlinewidth\":0,\"ticks\":\"\"}}}],\"scatterpolargl\":[{\"type\":\"scatterpolargl\",\"marker\":{\"colorbar\":{\"outlinewidth\":0,\"ticks\":\"\"}}}],\"bar\":[{\"error_x\":{\"color\":\"#2a3f5f\"},\"error_y\":{\"color\":\"#2a3f5f\"},\"marker\":{\"line\":{\"color\":\"#E5ECF6\",\"width\":0.5},\"pattern\":{\"fillmode\":\"overlay\",\"size\":10,\"solidity\":0.2}},\"type\":\"bar\"}],\"scattergeo\":[{\"type\":\"scattergeo\",\"marker\":{\"colorbar\":{\"outlinewidth\":0,\"ticks\":\"\"}}}],\"scatterpolar\":[{\"type\":\"scatterpolar\",\"marker\":{\"colorbar\":{\"outlinewidth\":0,\"ticks\":\"\"}}}],\"histogram\":[{\"marker\":{\"pattern\":{\"fillmode\":\"overlay\",\"size\":10,\"solidity\":0.2}},\"type\":\"histogram\"}],\"scattergl\":[{\"type\":\"scattergl\",\"marker\":{\"colorbar\":{\"outlinewidth\":0,\"ticks\":\"\"}}}],\"scatter3d\":[{\"type\":\"scatter3d\",\"line\":{\"colorbar\":{\"outlinewidth\":0,\"ticks\":\"\"}},\"marker\":{\"colorbar\":{\"outlinewidth\":0,\"ticks\":\"\"}}}],\"scattermapbox\":[{\"type\":\"scattermapbox\",\"marker\":{\"colorbar\":{\"outlinewidth\":0,\"ticks\":\"\"}}}],\"scatterternary\":[{\"type\":\"scatterternary\",\"marker\":{\"colorbar\":{\"outlinewidth\":0,\"ticks\":\"\"}}}],\"scattercarpet\":[{\"type\":\"scattercarpet\",\"marker\":{\"colorbar\":{\"outlinewidth\":0,\"ticks\":\"\"}}}],\"carpet\":[{\"aaxis\":{\"endlinecolor\":\"#2a3f5f\",\"gridcolor\":\"white\",\"linecolor\":\"white\",\"minorgridcolor\":\"white\",\"startlinecolor\":\"#2a3f5f\"},\"baxis\":{\"endlinecolor\":\"#2a3f5f\",\"gridcolor\":\"white\",\"linecolor\":\"white\",\"minorgridcolor\":\"white\",\"startlinecolor\":\"#2a3f5f\"},\"type\":\"carpet\"}],\"table\":[{\"cells\":{\"fill\":{\"color\":\"#EBF0F8\"},\"line\":{\"color\":\"white\"}},\"header\":{\"fill\":{\"color\":\"#C8D4E3\"},\"line\":{\"color\":\"white\"}},\"type\":\"table\"}],\"barpolar\":[{\"marker\":{\"line\":{\"color\":\"#E5ECF6\",\"width\":0.5},\"pattern\":{\"fillmode\":\"overlay\",\"size\":10,\"solidity\":0.2}},\"type\":\"barpolar\"}],\"pie\":[{\"automargin\":true,\"type\":\"pie\"}]},\"layout\":{\"autotypenumbers\":\"strict\",\"colorway\":[\"#636efa\",\"#EF553B\",\"#00cc96\",\"#ab63fa\",\"#FFA15A\",\"#19d3f3\",\"#FF6692\",\"#B6E880\",\"#FF97FF\",\"#FECB52\"],\"font\":{\"color\":\"#2a3f5f\"},\"hovermode\":\"closest\",\"hoverlabel\":{\"align\":\"left\"},\"paper_bgcolor\":\"white\",\"plot_bgcolor\":\"#E5ECF6\",\"polar\":{\"bgcolor\":\"#E5ECF6\",\"angularaxis\":{\"gridcolor\":\"white\",\"linecolor\":\"white\",\"ticks\":\"\"},\"radialaxis\":{\"gridcolor\":\"white\",\"linecolor\":\"white\",\"ticks\":\"\"}},\"ternary\":{\"bgcolor\":\"#E5ECF6\",\"aaxis\":{\"gridcolor\":\"white\",\"linecolor\":\"white\",\"ticks\":\"\"},\"baxis\":{\"gridcolor\":\"white\",\"linecolor\":\"white\",\"ticks\":\"\"},\"caxis\":{\"gridcolor\":\"white\",\"linecolor\":\"white\",\"ticks\":\"\"}},\"coloraxis\":{\"colorbar\":{\"outlinewidth\":0,\"ticks\":\"\"}},\"colorscale\":{\"sequential\":[[0.0,\"#0d0887\"],[0.1111111111111111,\"#46039f\"],[0.2222222222222222,\"#7201a8\"],[0.3333333333333333,\"#9c179e\"],[0.4444444444444444,\"#bd3786\"],[0.5555555555555556,\"#d8576b\"],[0.6666666666666666,\"#ed7953\"],[0.7777777777777778,\"#fb9f3a\"],[0.8888888888888888,\"#fdca26\"],[1.0,\"#f0f921\"]],\"sequentialminus\":[[0.0,\"#0d0887\"],[0.1111111111111111,\"#46039f\"],[0.2222222222222222,\"#7201a8\"],[0.3333333333333333,\"#9c179e\"],[0.4444444444444444,\"#bd3786\"],[0.5555555555555556,\"#d8576b\"],[0.6666666666666666,\"#ed7953\"],[0.7777777777777778,\"#fb9f3a\"],[0.8888888888888888,\"#fdca26\"],[1.0,\"#f0f921\"]],\"diverging\":[[0,\"#8e0152\"],[0.1,\"#c51b7d\"],[0.2,\"#de77ae\"],[0.3,\"#f1b6da\"],[0.4,\"#fde0ef\"],[0.5,\"#f7f7f7\"],[0.6,\"#e6f5d0\"],[0.7,\"#b8e186\"],[0.8,\"#7fbc41\"],[0.9,\"#4d9221\"],[1,\"#276419\"]]},\"xaxis\":{\"gridcolor\":\"white\",\"linecolor\":\"white\",\"ticks\":\"\",\"title\":{\"standoff\":15},\"zerolinecolor\":\"white\",\"automargin\":true,\"zerolinewidth\":2},\"yaxis\":{\"gridcolor\":\"white\",\"linecolor\":\"white\",\"ticks\":\"\",\"title\":{\"standoff\":15},\"zerolinecolor\":\"white\",\"automargin\":true,\"zerolinewidth\":2},\"scene\":{\"xaxis\":{\"backgroundcolor\":\"#E5ECF6\",\"gridcolor\":\"white\",\"linecolor\":\"white\",\"showbackground\":true,\"ticks\":\"\",\"zerolinecolor\":\"white\",\"gridwidth\":2},\"yaxis\":{\"backgroundcolor\":\"#E5ECF6\",\"gridcolor\":\"white\",\"linecolor\":\"white\",\"showbackground\":true,\"ticks\":\"\",\"zerolinecolor\":\"white\",\"gridwidth\":2},\"zaxis\":{\"backgroundcolor\":\"#E5ECF6\",\"gridcolor\":\"white\",\"linecolor\":\"white\",\"showbackground\":true,\"ticks\":\"\",\"zerolinecolor\":\"white\",\"gridwidth\":2}},\"shapedefaults\":{\"line\":{\"color\":\"#2a3f5f\"}},\"annotationdefaults\":{\"arrowcolor\":\"#2a3f5f\",\"arrowhead\":0,\"arrowwidth\":1},\"geo\":{\"bgcolor\":\"white\",\"landcolor\":\"#E5ECF6\",\"subunitcolor\":\"white\",\"showland\":true,\"showlakes\":true,\"lakecolor\":\"white\"},\"title\":{\"x\":0.05},\"mapbox\":{\"style\":\"light\"}}},\"yaxis2\":{\"title\":{\"text\":\"Second Metric\"},\"overlaying\":\"y\",\"side\":\"right\"},\"title\":{\"text\":\"Train Losses\"},\"xaxis\":{\"title\":{\"text\":\"Epochs\"}},\"yaxis\":{\"title\":{\"text\":\"Loss\"}},\"legend\":{\"title\":{\"text\":\"Legend\"}},\"hovermode\":\"closest\",\"width\":600,\"height\":400},                        {\"responsive\": true}                    ).then(function(){\n",
       "                            \n",
       "var gd = document.getElementById('edee3463-cb0e-4963-9e8a-7ddc223abbee');\n",
       "var x = new MutationObserver(function (mutations, observer) {{\n",
       "        var display = window.getComputedStyle(gd).display;\n",
       "        if (!display || display === 'none') {{\n",
       "            console.log([gd, 'removed!']);\n",
       "            Plotly.purge(gd);\n",
       "            observer.disconnect();\n",
       "        }}\n",
       "}});\n",
       "\n",
       "// Listen for the removal of the full notebook cells\n",
       "var notebookContainer = gd.closest('#notebook-container');\n",
       "if (notebookContainer) {{\n",
       "    x.observe(notebookContainer, {childList: true});\n",
       "}}\n",
       "\n",
       "// Listen for the clearing of the current output cell\n",
       "var outputEl = gd.closest('.output');\n",
       "if (outputEl) {{\n",
       "    x.observe(outputEl, {childList: true});\n",
       "}}\n",
       "\n",
       "                        })                };                });            </script>        </div>"
      ]
     },
     "metadata": {},
     "output_type": "display_data"
    },
    {
     "data": {
      "application/vnd.plotly.v1+json": {
       "config": {
        "plotlyServerURL": "https://plot.ly"
       },
       "data": [
        {
         "mode": "lines",
         "name": "Reactivity Loss",
         "type": "scatter",
         "x": [
          0,
          1,
          2,
          3,
          4,
          5,
          6,
          7,
          8,
          9,
          10,
          11,
          12,
          13,
          14,
          15,
          16,
          17,
          18,
          19,
          20,
          21,
          22,
          23,
          24,
          25,
          26,
          27,
          28,
          29,
          30,
          31,
          32,
          33,
          34,
          35,
          36,
          37,
          38,
          39
         ],
         "y": [
          0.21148290733496347,
          0.21428367762993544,
          0.21157137476480925,
          0.24122646565620715,
          0.21204524315320528,
          0.21484935742158157,
          0.21215601341846663,
          0.210660199706371,
          0.21012629186495757,
          0.20737356979113358,
          0.20666476549246374,
          0.2063723195057649,
          0.21000052033326563,
          0.2100228033004663,
          0.2050762692323098,
          0.20477917943245325,
          0.20440381039411593,
          0.20626556453032371,
          0.20346539524885324,
          0.2039406154400263,
          0.20105920999478072,
          0.2014207396751795,
          0.2022281472499554,
          0.2026683944158065,
          0.1982132784831218,
          0.19906604098968017,
          0.1951455214084723,
          0.19491455761285928,
          0.1961506895529918,
          0.19253045396927077,
          0.1962764186736865,
          0.192892618286304,
          0.1950450274042594,
          0.19228849846583146,
          0.19132592662786826,
          0.19064170886308718,
          0.19146840675519064,
          0.18849926384595725,
          0.18933351853719124,
          0.18917527145300156
         ]
        },
        {
         "line": {
          "dash": "dash",
          "width": 2
         },
         "mode": "lines",
         "name": "Nan Loss",
         "type": "scatter",
         "x": [
          0,
          1,
          2,
          3,
          4,
          5,
          6,
          7,
          8,
          9,
          10,
          11,
          12,
          13,
          14,
          15,
          16,
          17,
          18,
          19,
          20,
          21,
          22,
          23,
          24,
          25,
          26,
          27,
          28,
          29,
          30,
          31,
          32,
          33,
          34,
          35,
          36,
          37,
          38,
          39
         ],
         "y": [
          0.6060281212513263,
          0.5146360099315643,
          0.3969836517786368,
          0.38907188941270876,
          0.275971009181096,
          0.1790372148538247,
          0.13456439322386032,
          0.13375432483660868,
          0.11098599281066503,
          0.10958284005904809,
          0.09399447036095154,
          0.09032897909100239,
          0.07256736405766927,
          0.0669815859829004,
          0.0626126047796928,
          0.06444062688984932,
          0.058786299700538315,
          0.04586101008149294,
          0.04025940322436583,
          0.040298161861033015,
          0.03519940526726154,
          0.030351546903451283,
          0.029538541960601624,
          0.02996596350119664,
          0.024814287319970436,
          0.025961168779012483,
          0.02042527878895784,
          0.02020218037068844,
          0.022382236061952054,
          0.01678542195795438,
          0.01774980489594432,
          0.01704868819946662,
          0.016444528033622563,
          0.013942976422512379,
          0.011975991348616587,
          0.011552999142366342,
          0.011342476928033508,
          0.012683008349715518,
          0.008941394444077443,
          0.0089467232211087
         ],
         "yaxis": "y2"
        },
        {
         "line": {
          "dash": "dash",
          "width": 2
         },
         "mode": "lines",
         "name": "SN Loss",
         "type": "scatter",
         "x": [
          0,
          1,
          2,
          3,
          4,
          5,
          6,
          7,
          8,
          9,
          10,
          11,
          12,
          13,
          14,
          15,
          16,
          17,
          18,
          19,
          20,
          21,
          22,
          23,
          24,
          25,
          26,
          27,
          28,
          29,
          30,
          31,
          32,
          33,
          34,
          35,
          36,
          37,
          38,
          39
         ],
         "y": [
          4.557367227016351,
          3.454380010947203,
          1.9721794525782268,
          1.8815214664508135,
          1.0049525911991413,
          0.9747142195701599,
          0.9576221169569553,
          0.9541173332776779,
          0.9565648130881481,
          0.9515314148022578,
          0.9553346939575977,
          0.9553129550738212,
          0.9837628381374555,
          0.9388530040398623,
          0.936512141655653,
          0.9489169128430195,
          1.0554737800206893,
          0.8213060834468939,
          0.8070784157667404,
          0.8228365465616568,
          0.7825207847815293,
          0.7720564267574213,
          0.8787933801993345,
          0.9515692438834753,
          0.7660773717440091,
          0.7789415762974665,
          0.7400174133288555,
          0.7411575027001209,
          0.7360059191019107,
          0.7651971288216419,
          0.7214794525733361,
          0.7170697679886451,
          0.7138673609647995,
          0.7899439151470478,
          0.7063610118169051,
          0.7019249498844147,
          0.6735021617168035,
          0.659888397424649,
          0.6356293551432781,
          0.6809690770430442
         ],
         "yaxis": "y2"
        },
        {
         "line": {
          "dash": "dash",
          "width": 2
         },
         "mode": "lines",
         "name": "Error Loss",
         "type": "scatter",
         "x": [
          0,
          1,
          2,
          3,
          4,
          5,
          6,
          7,
          8,
          9,
          10,
          11,
          12,
          13,
          14,
          15,
          16,
          17,
          18,
          19,
          20,
          21,
          22,
          23,
          24,
          25,
          26,
          27,
          28,
          29,
          30,
          31,
          32,
          33,
          34,
          35,
          36,
          37,
          38,
          39
         ],
         "y": [
          0.09981069121605311,
          0.08217492346198131,
          0.0903448170194259,
          0.09128665112150021,
          0.08261663543108182,
          0.08156083868100093,
          0.08141777148613563,
          0.080968119442845,
          0.08175149488334472,
          0.08082711954529469,
          0.08225478852788608,
          0.08214197054696389,
          0.0822715446448479,
          0.08169863086480361,
          0.08036073889487828,
          0.08042247144457622,
          0.07955908355040428,
          0.07770079937882912,
          0.0788171526331168,
          0.0770473236647936,
          0.07431738986036716,
          0.07663984816425885,
          0.07623974257745804,
          0.07758146963822536,
          0.07555655179879604,
          0.07243277070422967,
          0.07213597214565827,
          0.07215872182486913,
          0.07275513081978528,
          0.0718063081208712,
          0.0748182922983781,
          0.0744984053934996,
          0.071399964678746,
          0.07201433640259963,
          0.07477152892030202,
          0.07541757067426658,
          0.06997929031077103,
          0.07005762676589,
          0.06857759338349868,
          0.06967734359204769
         ],
         "yaxis": "y2"
        }
       ],
       "layout": {
        "height": 400,
        "hovermode": "closest",
        "legend": {
         "title": {
          "text": "Legend"
         }
        },
        "template": {
         "data": {
          "bar": [
           {
            "error_x": {
             "color": "#2a3f5f"
            },
            "error_y": {
             "color": "#2a3f5f"
            },
            "marker": {
             "line": {
              "color": "#E5ECF6",
              "width": 0.5
             },
             "pattern": {
              "fillmode": "overlay",
              "size": 10,
              "solidity": 0.2
             }
            },
            "type": "bar"
           }
          ],
          "barpolar": [
           {
            "marker": {
             "line": {
              "color": "#E5ECF6",
              "width": 0.5
             },
             "pattern": {
              "fillmode": "overlay",
              "size": 10,
              "solidity": 0.2
             }
            },
            "type": "barpolar"
           }
          ],
          "carpet": [
           {
            "aaxis": {
             "endlinecolor": "#2a3f5f",
             "gridcolor": "white",
             "linecolor": "white",
             "minorgridcolor": "white",
             "startlinecolor": "#2a3f5f"
            },
            "baxis": {
             "endlinecolor": "#2a3f5f",
             "gridcolor": "white",
             "linecolor": "white",
             "minorgridcolor": "white",
             "startlinecolor": "#2a3f5f"
            },
            "type": "carpet"
           }
          ],
          "choropleth": [
           {
            "colorbar": {
             "outlinewidth": 0,
             "ticks": ""
            },
            "type": "choropleth"
           }
          ],
          "contour": [
           {
            "colorbar": {
             "outlinewidth": 0,
             "ticks": ""
            },
            "colorscale": [
             [
              0,
              "#0d0887"
             ],
             [
              0.1111111111111111,
              "#46039f"
             ],
             [
              0.2222222222222222,
              "#7201a8"
             ],
             [
              0.3333333333333333,
              "#9c179e"
             ],
             [
              0.4444444444444444,
              "#bd3786"
             ],
             [
              0.5555555555555556,
              "#d8576b"
             ],
             [
              0.6666666666666666,
              "#ed7953"
             ],
             [
              0.7777777777777778,
              "#fb9f3a"
             ],
             [
              0.8888888888888888,
              "#fdca26"
             ],
             [
              1,
              "#f0f921"
             ]
            ],
            "type": "contour"
           }
          ],
          "contourcarpet": [
           {
            "colorbar": {
             "outlinewidth": 0,
             "ticks": ""
            },
            "type": "contourcarpet"
           }
          ],
          "heatmap": [
           {
            "colorbar": {
             "outlinewidth": 0,
             "ticks": ""
            },
            "colorscale": [
             [
              0,
              "#0d0887"
             ],
             [
              0.1111111111111111,
              "#46039f"
             ],
             [
              0.2222222222222222,
              "#7201a8"
             ],
             [
              0.3333333333333333,
              "#9c179e"
             ],
             [
              0.4444444444444444,
              "#bd3786"
             ],
             [
              0.5555555555555556,
              "#d8576b"
             ],
             [
              0.6666666666666666,
              "#ed7953"
             ],
             [
              0.7777777777777778,
              "#fb9f3a"
             ],
             [
              0.8888888888888888,
              "#fdca26"
             ],
             [
              1,
              "#f0f921"
             ]
            ],
            "type": "heatmap"
           }
          ],
          "heatmapgl": [
           {
            "colorbar": {
             "outlinewidth": 0,
             "ticks": ""
            },
            "colorscale": [
             [
              0,
              "#0d0887"
             ],
             [
              0.1111111111111111,
              "#46039f"
             ],
             [
              0.2222222222222222,
              "#7201a8"
             ],
             [
              0.3333333333333333,
              "#9c179e"
             ],
             [
              0.4444444444444444,
              "#bd3786"
             ],
             [
              0.5555555555555556,
              "#d8576b"
             ],
             [
              0.6666666666666666,
              "#ed7953"
             ],
             [
              0.7777777777777778,
              "#fb9f3a"
             ],
             [
              0.8888888888888888,
              "#fdca26"
             ],
             [
              1,
              "#f0f921"
             ]
            ],
            "type": "heatmapgl"
           }
          ],
          "histogram": [
           {
            "marker": {
             "pattern": {
              "fillmode": "overlay",
              "size": 10,
              "solidity": 0.2
             }
            },
            "type": "histogram"
           }
          ],
          "histogram2d": [
           {
            "colorbar": {
             "outlinewidth": 0,
             "ticks": ""
            },
            "colorscale": [
             [
              0,
              "#0d0887"
             ],
             [
              0.1111111111111111,
              "#46039f"
             ],
             [
              0.2222222222222222,
              "#7201a8"
             ],
             [
              0.3333333333333333,
              "#9c179e"
             ],
             [
              0.4444444444444444,
              "#bd3786"
             ],
             [
              0.5555555555555556,
              "#d8576b"
             ],
             [
              0.6666666666666666,
              "#ed7953"
             ],
             [
              0.7777777777777778,
              "#fb9f3a"
             ],
             [
              0.8888888888888888,
              "#fdca26"
             ],
             [
              1,
              "#f0f921"
             ]
            ],
            "type": "histogram2d"
           }
          ],
          "histogram2dcontour": [
           {
            "colorbar": {
             "outlinewidth": 0,
             "ticks": ""
            },
            "colorscale": [
             [
              0,
              "#0d0887"
             ],
             [
              0.1111111111111111,
              "#46039f"
             ],
             [
              0.2222222222222222,
              "#7201a8"
             ],
             [
              0.3333333333333333,
              "#9c179e"
             ],
             [
              0.4444444444444444,
              "#bd3786"
             ],
             [
              0.5555555555555556,
              "#d8576b"
             ],
             [
              0.6666666666666666,
              "#ed7953"
             ],
             [
              0.7777777777777778,
              "#fb9f3a"
             ],
             [
              0.8888888888888888,
              "#fdca26"
             ],
             [
              1,
              "#f0f921"
             ]
            ],
            "type": "histogram2dcontour"
           }
          ],
          "mesh3d": [
           {
            "colorbar": {
             "outlinewidth": 0,
             "ticks": ""
            },
            "type": "mesh3d"
           }
          ],
          "parcoords": [
           {
            "line": {
             "colorbar": {
              "outlinewidth": 0,
              "ticks": ""
             }
            },
            "type": "parcoords"
           }
          ],
          "pie": [
           {
            "automargin": true,
            "type": "pie"
           }
          ],
          "scatter": [
           {
            "fillpattern": {
             "fillmode": "overlay",
             "size": 10,
             "solidity": 0.2
            },
            "type": "scatter"
           }
          ],
          "scatter3d": [
           {
            "line": {
             "colorbar": {
              "outlinewidth": 0,
              "ticks": ""
             }
            },
            "marker": {
             "colorbar": {
              "outlinewidth": 0,
              "ticks": ""
             }
            },
            "type": "scatter3d"
           }
          ],
          "scattercarpet": [
           {
            "marker": {
             "colorbar": {
              "outlinewidth": 0,
              "ticks": ""
             }
            },
            "type": "scattercarpet"
           }
          ],
          "scattergeo": [
           {
            "marker": {
             "colorbar": {
              "outlinewidth": 0,
              "ticks": ""
             }
            },
            "type": "scattergeo"
           }
          ],
          "scattergl": [
           {
            "marker": {
             "colorbar": {
              "outlinewidth": 0,
              "ticks": ""
             }
            },
            "type": "scattergl"
           }
          ],
          "scattermapbox": [
           {
            "marker": {
             "colorbar": {
              "outlinewidth": 0,
              "ticks": ""
             }
            },
            "type": "scattermapbox"
           }
          ],
          "scatterpolar": [
           {
            "marker": {
             "colorbar": {
              "outlinewidth": 0,
              "ticks": ""
             }
            },
            "type": "scatterpolar"
           }
          ],
          "scatterpolargl": [
           {
            "marker": {
             "colorbar": {
              "outlinewidth": 0,
              "ticks": ""
             }
            },
            "type": "scatterpolargl"
           }
          ],
          "scatterternary": [
           {
            "marker": {
             "colorbar": {
              "outlinewidth": 0,
              "ticks": ""
             }
            },
            "type": "scatterternary"
           }
          ],
          "surface": [
           {
            "colorbar": {
             "outlinewidth": 0,
             "ticks": ""
            },
            "colorscale": [
             [
              0,
              "#0d0887"
             ],
             [
              0.1111111111111111,
              "#46039f"
             ],
             [
              0.2222222222222222,
              "#7201a8"
             ],
             [
              0.3333333333333333,
              "#9c179e"
             ],
             [
              0.4444444444444444,
              "#bd3786"
             ],
             [
              0.5555555555555556,
              "#d8576b"
             ],
             [
              0.6666666666666666,
              "#ed7953"
             ],
             [
              0.7777777777777778,
              "#fb9f3a"
             ],
             [
              0.8888888888888888,
              "#fdca26"
             ],
             [
              1,
              "#f0f921"
             ]
            ],
            "type": "surface"
           }
          ],
          "table": [
           {
            "cells": {
             "fill": {
              "color": "#EBF0F8"
             },
             "line": {
              "color": "white"
             }
            },
            "header": {
             "fill": {
              "color": "#C8D4E3"
             },
             "line": {
              "color": "white"
             }
            },
            "type": "table"
           }
          ]
         },
         "layout": {
          "annotationdefaults": {
           "arrowcolor": "#2a3f5f",
           "arrowhead": 0,
           "arrowwidth": 1
          },
          "autotypenumbers": "strict",
          "coloraxis": {
           "colorbar": {
            "outlinewidth": 0,
            "ticks": ""
           }
          },
          "colorscale": {
           "diverging": [
            [
             0,
             "#8e0152"
            ],
            [
             0.1,
             "#c51b7d"
            ],
            [
             0.2,
             "#de77ae"
            ],
            [
             0.3,
             "#f1b6da"
            ],
            [
             0.4,
             "#fde0ef"
            ],
            [
             0.5,
             "#f7f7f7"
            ],
            [
             0.6,
             "#e6f5d0"
            ],
            [
             0.7,
             "#b8e186"
            ],
            [
             0.8,
             "#7fbc41"
            ],
            [
             0.9,
             "#4d9221"
            ],
            [
             1,
             "#276419"
            ]
           ],
           "sequential": [
            [
             0,
             "#0d0887"
            ],
            [
             0.1111111111111111,
             "#46039f"
            ],
            [
             0.2222222222222222,
             "#7201a8"
            ],
            [
             0.3333333333333333,
             "#9c179e"
            ],
            [
             0.4444444444444444,
             "#bd3786"
            ],
            [
             0.5555555555555556,
             "#d8576b"
            ],
            [
             0.6666666666666666,
             "#ed7953"
            ],
            [
             0.7777777777777778,
             "#fb9f3a"
            ],
            [
             0.8888888888888888,
             "#fdca26"
            ],
            [
             1,
             "#f0f921"
            ]
           ],
           "sequentialminus": [
            [
             0,
             "#0d0887"
            ],
            [
             0.1111111111111111,
             "#46039f"
            ],
            [
             0.2222222222222222,
             "#7201a8"
            ],
            [
             0.3333333333333333,
             "#9c179e"
            ],
            [
             0.4444444444444444,
             "#bd3786"
            ],
            [
             0.5555555555555556,
             "#d8576b"
            ],
            [
             0.6666666666666666,
             "#ed7953"
            ],
            [
             0.7777777777777778,
             "#fb9f3a"
            ],
            [
             0.8888888888888888,
             "#fdca26"
            ],
            [
             1,
             "#f0f921"
            ]
           ]
          },
          "colorway": [
           "#636efa",
           "#EF553B",
           "#00cc96",
           "#ab63fa",
           "#FFA15A",
           "#19d3f3",
           "#FF6692",
           "#B6E880",
           "#FF97FF",
           "#FECB52"
          ],
          "font": {
           "color": "#2a3f5f"
          },
          "geo": {
           "bgcolor": "white",
           "lakecolor": "white",
           "landcolor": "#E5ECF6",
           "showlakes": true,
           "showland": true,
           "subunitcolor": "white"
          },
          "hoverlabel": {
           "align": "left"
          },
          "hovermode": "closest",
          "mapbox": {
           "style": "light"
          },
          "paper_bgcolor": "white",
          "plot_bgcolor": "#E5ECF6",
          "polar": {
           "angularaxis": {
            "gridcolor": "white",
            "linecolor": "white",
            "ticks": ""
           },
           "bgcolor": "#E5ECF6",
           "radialaxis": {
            "gridcolor": "white",
            "linecolor": "white",
            "ticks": ""
           }
          },
          "scene": {
           "xaxis": {
            "backgroundcolor": "#E5ECF6",
            "gridcolor": "white",
            "gridwidth": 2,
            "linecolor": "white",
            "showbackground": true,
            "ticks": "",
            "zerolinecolor": "white"
           },
           "yaxis": {
            "backgroundcolor": "#E5ECF6",
            "gridcolor": "white",
            "gridwidth": 2,
            "linecolor": "white",
            "showbackground": true,
            "ticks": "",
            "zerolinecolor": "white"
           },
           "zaxis": {
            "backgroundcolor": "#E5ECF6",
            "gridcolor": "white",
            "gridwidth": 2,
            "linecolor": "white",
            "showbackground": true,
            "ticks": "",
            "zerolinecolor": "white"
           }
          },
          "shapedefaults": {
           "line": {
            "color": "#2a3f5f"
           }
          },
          "ternary": {
           "aaxis": {
            "gridcolor": "white",
            "linecolor": "white",
            "ticks": ""
           },
           "baxis": {
            "gridcolor": "white",
            "linecolor": "white",
            "ticks": ""
           },
           "bgcolor": "#E5ECF6",
           "caxis": {
            "gridcolor": "white",
            "linecolor": "white",
            "ticks": ""
           }
          },
          "title": {
           "x": 0.05
          },
          "xaxis": {
           "automargin": true,
           "gridcolor": "white",
           "linecolor": "white",
           "ticks": "",
           "title": {
            "standoff": 15
           },
           "zerolinecolor": "white",
           "zerolinewidth": 2
          },
          "yaxis": {
           "automargin": true,
           "gridcolor": "white",
           "linecolor": "white",
           "ticks": "",
           "title": {
            "standoff": 15
           },
           "zerolinecolor": "white",
           "zerolinewidth": 2
          }
         }
        },
        "title": {
         "text": "Validation Losses"
        },
        "width": 600,
        "xaxis": {
         "title": {
          "text": "Epochs"
         }
        },
        "yaxis": {
         "title": {
          "text": "Loss"
         }
        },
        "yaxis2": {
         "overlaying": "y",
         "side": "right",
         "title": {
          "text": "Second Metric"
         }
        }
       }
      },
      "text/html": [
       "<div>                            <div id=\"a897e427-c408-4c60-90bf-3e10b6cbbda6\" class=\"plotly-graph-div\" style=\"height:400px; width:600px;\"></div>            <script type=\"text/javascript\">                require([\"plotly\"], function(Plotly) {                    window.PLOTLYENV=window.PLOTLYENV || {};                                    if (document.getElementById(\"a897e427-c408-4c60-90bf-3e10b6cbbda6\")) {                    Plotly.newPlot(                        \"a897e427-c408-4c60-90bf-3e10b6cbbda6\",                        [{\"mode\":\"lines\",\"name\":\"Reactivity Loss\",\"x\":[0,1,2,3,4,5,6,7,8,9,10,11,12,13,14,15,16,17,18,19,20,21,22,23,24,25,26,27,28,29,30,31,32,33,34,35,36,37,38,39],\"y\":[0.21148290733496347,0.21428367762993544,0.21157137476480925,0.24122646565620715,0.21204524315320528,0.21484935742158157,0.21215601341846663,0.210660199706371,0.21012629186495757,0.20737356979113358,0.20666476549246374,0.2063723195057649,0.21000052033326563,0.2100228033004663,0.2050762692323098,0.20477917943245325,0.20440381039411593,0.20626556453032371,0.20346539524885324,0.2039406154400263,0.20105920999478072,0.2014207396751795,0.2022281472499554,0.2026683944158065,0.1982132784831218,0.19906604098968017,0.1951455214084723,0.19491455761285928,0.1961506895529918,0.19253045396927077,0.1962764186736865,0.192892618286304,0.1950450274042594,0.19228849846583146,0.19132592662786826,0.19064170886308718,0.19146840675519064,0.18849926384595725,0.18933351853719124,0.18917527145300156],\"type\":\"scatter\"},{\"line\":{\"dash\":\"dash\",\"width\":2},\"mode\":\"lines\",\"name\":\"Nan Loss\",\"x\":[0,1,2,3,4,5,6,7,8,9,10,11,12,13,14,15,16,17,18,19,20,21,22,23,24,25,26,27,28,29,30,31,32,33,34,35,36,37,38,39],\"y\":[0.6060281212513263,0.5146360099315643,0.3969836517786368,0.38907188941270876,0.275971009181096,0.1790372148538247,0.13456439322386032,0.13375432483660868,0.11098599281066503,0.10958284005904809,0.09399447036095154,0.09032897909100239,0.07256736405766927,0.0669815859829004,0.0626126047796928,0.06444062688984932,0.058786299700538315,0.04586101008149294,0.04025940322436583,0.040298161861033015,0.03519940526726154,0.030351546903451283,0.029538541960601624,0.02996596350119664,0.024814287319970436,0.025961168779012483,0.02042527878895784,0.02020218037068844,0.022382236061952054,0.01678542195795438,0.01774980489594432,0.01704868819946662,0.016444528033622563,0.013942976422512379,0.011975991348616587,0.011552999142366342,0.011342476928033508,0.012683008349715518,0.008941394444077443,0.0089467232211087],\"yaxis\":\"y2\",\"type\":\"scatter\"},{\"line\":{\"dash\":\"dash\",\"width\":2},\"mode\":\"lines\",\"name\":\"SN Loss\",\"x\":[0,1,2,3,4,5,6,7,8,9,10,11,12,13,14,15,16,17,18,19,20,21,22,23,24,25,26,27,28,29,30,31,32,33,34,35,36,37,38,39],\"y\":[4.557367227016351,3.454380010947203,1.9721794525782268,1.8815214664508135,1.0049525911991413,0.9747142195701599,0.9576221169569553,0.9541173332776779,0.9565648130881481,0.9515314148022578,0.9553346939575977,0.9553129550738212,0.9837628381374555,0.9388530040398623,0.936512141655653,0.9489169128430195,1.0554737800206893,0.8213060834468939,0.8070784157667404,0.8228365465616568,0.7825207847815293,0.7720564267574213,0.8787933801993345,0.9515692438834753,0.7660773717440091,0.7789415762974665,0.7400174133288555,0.7411575027001209,0.7360059191019107,0.7651971288216419,0.7214794525733361,0.7170697679886451,0.7138673609647995,0.7899439151470478,0.7063610118169051,0.7019249498844147,0.6735021617168035,0.659888397424649,0.6356293551432781,0.6809690770430442],\"yaxis\":\"y2\",\"type\":\"scatter\"},{\"line\":{\"dash\":\"dash\",\"width\":2},\"mode\":\"lines\",\"name\":\"Error Loss\",\"x\":[0,1,2,3,4,5,6,7,8,9,10,11,12,13,14,15,16,17,18,19,20,21,22,23,24,25,26,27,28,29,30,31,32,33,34,35,36,37,38,39],\"y\":[0.09981069121605311,0.08217492346198131,0.0903448170194259,0.09128665112150021,0.08261663543108182,0.08156083868100093,0.08141777148613563,0.080968119442845,0.08175149488334472,0.08082711954529469,0.08225478852788608,0.08214197054696389,0.0822715446448479,0.08169863086480361,0.08036073889487828,0.08042247144457622,0.07955908355040428,0.07770079937882912,0.0788171526331168,0.0770473236647936,0.07431738986036716,0.07663984816425885,0.07623974257745804,0.07758146963822536,0.07555655179879604,0.07243277070422967,0.07213597214565827,0.07215872182486913,0.07275513081978528,0.0718063081208712,0.0748182922983781,0.0744984053934996,0.071399964678746,0.07201433640259963,0.07477152892030202,0.07541757067426658,0.06997929031077103,0.07005762676589,0.06857759338349868,0.06967734359204769],\"yaxis\":\"y2\",\"type\":\"scatter\"}],                        {\"template\":{\"data\":{\"histogram2dcontour\":[{\"type\":\"histogram2dcontour\",\"colorbar\":{\"outlinewidth\":0,\"ticks\":\"\"},\"colorscale\":[[0.0,\"#0d0887\"],[0.1111111111111111,\"#46039f\"],[0.2222222222222222,\"#7201a8\"],[0.3333333333333333,\"#9c179e\"],[0.4444444444444444,\"#bd3786\"],[0.5555555555555556,\"#d8576b\"],[0.6666666666666666,\"#ed7953\"],[0.7777777777777778,\"#fb9f3a\"],[0.8888888888888888,\"#fdca26\"],[1.0,\"#f0f921\"]]}],\"choropleth\":[{\"type\":\"choropleth\",\"colorbar\":{\"outlinewidth\":0,\"ticks\":\"\"}}],\"histogram2d\":[{\"type\":\"histogram2d\",\"colorbar\":{\"outlinewidth\":0,\"ticks\":\"\"},\"colorscale\":[[0.0,\"#0d0887\"],[0.1111111111111111,\"#46039f\"],[0.2222222222222222,\"#7201a8\"],[0.3333333333333333,\"#9c179e\"],[0.4444444444444444,\"#bd3786\"],[0.5555555555555556,\"#d8576b\"],[0.6666666666666666,\"#ed7953\"],[0.7777777777777778,\"#fb9f3a\"],[0.8888888888888888,\"#fdca26\"],[1.0,\"#f0f921\"]]}],\"heatmap\":[{\"type\":\"heatmap\",\"colorbar\":{\"outlinewidth\":0,\"ticks\":\"\"},\"colorscale\":[[0.0,\"#0d0887\"],[0.1111111111111111,\"#46039f\"],[0.2222222222222222,\"#7201a8\"],[0.3333333333333333,\"#9c179e\"],[0.4444444444444444,\"#bd3786\"],[0.5555555555555556,\"#d8576b\"],[0.6666666666666666,\"#ed7953\"],[0.7777777777777778,\"#fb9f3a\"],[0.8888888888888888,\"#fdca26\"],[1.0,\"#f0f921\"]]}],\"heatmapgl\":[{\"type\":\"heatmapgl\",\"colorbar\":{\"outlinewidth\":0,\"ticks\":\"\"},\"colorscale\":[[0.0,\"#0d0887\"],[0.1111111111111111,\"#46039f\"],[0.2222222222222222,\"#7201a8\"],[0.3333333333333333,\"#9c179e\"],[0.4444444444444444,\"#bd3786\"],[0.5555555555555556,\"#d8576b\"],[0.6666666666666666,\"#ed7953\"],[0.7777777777777778,\"#fb9f3a\"],[0.8888888888888888,\"#fdca26\"],[1.0,\"#f0f921\"]]}],\"contourcarpet\":[{\"type\":\"contourcarpet\",\"colorbar\":{\"outlinewidth\":0,\"ticks\":\"\"}}],\"contour\":[{\"type\":\"contour\",\"colorbar\":{\"outlinewidth\":0,\"ticks\":\"\"},\"colorscale\":[[0.0,\"#0d0887\"],[0.1111111111111111,\"#46039f\"],[0.2222222222222222,\"#7201a8\"],[0.3333333333333333,\"#9c179e\"],[0.4444444444444444,\"#bd3786\"],[0.5555555555555556,\"#d8576b\"],[0.6666666666666666,\"#ed7953\"],[0.7777777777777778,\"#fb9f3a\"],[0.8888888888888888,\"#fdca26\"],[1.0,\"#f0f921\"]]}],\"surface\":[{\"type\":\"surface\",\"colorbar\":{\"outlinewidth\":0,\"ticks\":\"\"},\"colorscale\":[[0.0,\"#0d0887\"],[0.1111111111111111,\"#46039f\"],[0.2222222222222222,\"#7201a8\"],[0.3333333333333333,\"#9c179e\"],[0.4444444444444444,\"#bd3786\"],[0.5555555555555556,\"#d8576b\"],[0.6666666666666666,\"#ed7953\"],[0.7777777777777778,\"#fb9f3a\"],[0.8888888888888888,\"#fdca26\"],[1.0,\"#f0f921\"]]}],\"mesh3d\":[{\"type\":\"mesh3d\",\"colorbar\":{\"outlinewidth\":0,\"ticks\":\"\"}}],\"scatter\":[{\"fillpattern\":{\"fillmode\":\"overlay\",\"size\":10,\"solidity\":0.2},\"type\":\"scatter\"}],\"parcoords\":[{\"type\":\"parcoords\",\"line\":{\"colorbar\":{\"outlinewidth\":0,\"ticks\":\"\"}}}],\"scatterpolargl\":[{\"type\":\"scatterpolargl\",\"marker\":{\"colorbar\":{\"outlinewidth\":0,\"ticks\":\"\"}}}],\"bar\":[{\"error_x\":{\"color\":\"#2a3f5f\"},\"error_y\":{\"color\":\"#2a3f5f\"},\"marker\":{\"line\":{\"color\":\"#E5ECF6\",\"width\":0.5},\"pattern\":{\"fillmode\":\"overlay\",\"size\":10,\"solidity\":0.2}},\"type\":\"bar\"}],\"scattergeo\":[{\"type\":\"scattergeo\",\"marker\":{\"colorbar\":{\"outlinewidth\":0,\"ticks\":\"\"}}}],\"scatterpolar\":[{\"type\":\"scatterpolar\",\"marker\":{\"colorbar\":{\"outlinewidth\":0,\"ticks\":\"\"}}}],\"histogram\":[{\"marker\":{\"pattern\":{\"fillmode\":\"overlay\",\"size\":10,\"solidity\":0.2}},\"type\":\"histogram\"}],\"scattergl\":[{\"type\":\"scattergl\",\"marker\":{\"colorbar\":{\"outlinewidth\":0,\"ticks\":\"\"}}}],\"scatter3d\":[{\"type\":\"scatter3d\",\"line\":{\"colorbar\":{\"outlinewidth\":0,\"ticks\":\"\"}},\"marker\":{\"colorbar\":{\"outlinewidth\":0,\"ticks\":\"\"}}}],\"scattermapbox\":[{\"type\":\"scattermapbox\",\"marker\":{\"colorbar\":{\"outlinewidth\":0,\"ticks\":\"\"}}}],\"scatterternary\":[{\"type\":\"scatterternary\",\"marker\":{\"colorbar\":{\"outlinewidth\":0,\"ticks\":\"\"}}}],\"scattercarpet\":[{\"type\":\"scattercarpet\",\"marker\":{\"colorbar\":{\"outlinewidth\":0,\"ticks\":\"\"}}}],\"carpet\":[{\"aaxis\":{\"endlinecolor\":\"#2a3f5f\",\"gridcolor\":\"white\",\"linecolor\":\"white\",\"minorgridcolor\":\"white\",\"startlinecolor\":\"#2a3f5f\"},\"baxis\":{\"endlinecolor\":\"#2a3f5f\",\"gridcolor\":\"white\",\"linecolor\":\"white\",\"minorgridcolor\":\"white\",\"startlinecolor\":\"#2a3f5f\"},\"type\":\"carpet\"}],\"table\":[{\"cells\":{\"fill\":{\"color\":\"#EBF0F8\"},\"line\":{\"color\":\"white\"}},\"header\":{\"fill\":{\"color\":\"#C8D4E3\"},\"line\":{\"color\":\"white\"}},\"type\":\"table\"}],\"barpolar\":[{\"marker\":{\"line\":{\"color\":\"#E5ECF6\",\"width\":0.5},\"pattern\":{\"fillmode\":\"overlay\",\"size\":10,\"solidity\":0.2}},\"type\":\"barpolar\"}],\"pie\":[{\"automargin\":true,\"type\":\"pie\"}]},\"layout\":{\"autotypenumbers\":\"strict\",\"colorway\":[\"#636efa\",\"#EF553B\",\"#00cc96\",\"#ab63fa\",\"#FFA15A\",\"#19d3f3\",\"#FF6692\",\"#B6E880\",\"#FF97FF\",\"#FECB52\"],\"font\":{\"color\":\"#2a3f5f\"},\"hovermode\":\"closest\",\"hoverlabel\":{\"align\":\"left\"},\"paper_bgcolor\":\"white\",\"plot_bgcolor\":\"#E5ECF6\",\"polar\":{\"bgcolor\":\"#E5ECF6\",\"angularaxis\":{\"gridcolor\":\"white\",\"linecolor\":\"white\",\"ticks\":\"\"},\"radialaxis\":{\"gridcolor\":\"white\",\"linecolor\":\"white\",\"ticks\":\"\"}},\"ternary\":{\"bgcolor\":\"#E5ECF6\",\"aaxis\":{\"gridcolor\":\"white\",\"linecolor\":\"white\",\"ticks\":\"\"},\"baxis\":{\"gridcolor\":\"white\",\"linecolor\":\"white\",\"ticks\":\"\"},\"caxis\":{\"gridcolor\":\"white\",\"linecolor\":\"white\",\"ticks\":\"\"}},\"coloraxis\":{\"colorbar\":{\"outlinewidth\":0,\"ticks\":\"\"}},\"colorscale\":{\"sequential\":[[0.0,\"#0d0887\"],[0.1111111111111111,\"#46039f\"],[0.2222222222222222,\"#7201a8\"],[0.3333333333333333,\"#9c179e\"],[0.4444444444444444,\"#bd3786\"],[0.5555555555555556,\"#d8576b\"],[0.6666666666666666,\"#ed7953\"],[0.7777777777777778,\"#fb9f3a\"],[0.8888888888888888,\"#fdca26\"],[1.0,\"#f0f921\"]],\"sequentialminus\":[[0.0,\"#0d0887\"],[0.1111111111111111,\"#46039f\"],[0.2222222222222222,\"#7201a8\"],[0.3333333333333333,\"#9c179e\"],[0.4444444444444444,\"#bd3786\"],[0.5555555555555556,\"#d8576b\"],[0.6666666666666666,\"#ed7953\"],[0.7777777777777778,\"#fb9f3a\"],[0.8888888888888888,\"#fdca26\"],[1.0,\"#f0f921\"]],\"diverging\":[[0,\"#8e0152\"],[0.1,\"#c51b7d\"],[0.2,\"#de77ae\"],[0.3,\"#f1b6da\"],[0.4,\"#fde0ef\"],[0.5,\"#f7f7f7\"],[0.6,\"#e6f5d0\"],[0.7,\"#b8e186\"],[0.8,\"#7fbc41\"],[0.9,\"#4d9221\"],[1,\"#276419\"]]},\"xaxis\":{\"gridcolor\":\"white\",\"linecolor\":\"white\",\"ticks\":\"\",\"title\":{\"standoff\":15},\"zerolinecolor\":\"white\",\"automargin\":true,\"zerolinewidth\":2},\"yaxis\":{\"gridcolor\":\"white\",\"linecolor\":\"white\",\"ticks\":\"\",\"title\":{\"standoff\":15},\"zerolinecolor\":\"white\",\"automargin\":true,\"zerolinewidth\":2},\"scene\":{\"xaxis\":{\"backgroundcolor\":\"#E5ECF6\",\"gridcolor\":\"white\",\"linecolor\":\"white\",\"showbackground\":true,\"ticks\":\"\",\"zerolinecolor\":\"white\",\"gridwidth\":2},\"yaxis\":{\"backgroundcolor\":\"#E5ECF6\",\"gridcolor\":\"white\",\"linecolor\":\"white\",\"showbackground\":true,\"ticks\":\"\",\"zerolinecolor\":\"white\",\"gridwidth\":2},\"zaxis\":{\"backgroundcolor\":\"#E5ECF6\",\"gridcolor\":\"white\",\"linecolor\":\"white\",\"showbackground\":true,\"ticks\":\"\",\"zerolinecolor\":\"white\",\"gridwidth\":2}},\"shapedefaults\":{\"line\":{\"color\":\"#2a3f5f\"}},\"annotationdefaults\":{\"arrowcolor\":\"#2a3f5f\",\"arrowhead\":0,\"arrowwidth\":1},\"geo\":{\"bgcolor\":\"white\",\"landcolor\":\"#E5ECF6\",\"subunitcolor\":\"white\",\"showland\":true,\"showlakes\":true,\"lakecolor\":\"white\"},\"title\":{\"x\":0.05},\"mapbox\":{\"style\":\"light\"}}},\"yaxis2\":{\"title\":{\"text\":\"Second Metric\"},\"overlaying\":\"y\",\"side\":\"right\"},\"title\":{\"text\":\"Validation Losses\"},\"xaxis\":{\"title\":{\"text\":\"Epochs\"}},\"yaxis\":{\"title\":{\"text\":\"Loss\"}},\"legend\":{\"title\":{\"text\":\"Legend\"}},\"hovermode\":\"closest\",\"width\":600,\"height\":400},                        {\"responsive\": true}                    ).then(function(){\n",
       "                            \n",
       "var gd = document.getElementById('a897e427-c408-4c60-90bf-3e10b6cbbda6');\n",
       "var x = new MutationObserver(function (mutations, observer) {{\n",
       "        var display = window.getComputedStyle(gd).display;\n",
       "        if (!display || display === 'none') {{\n",
       "            console.log([gd, 'removed!']);\n",
       "            Plotly.purge(gd);\n",
       "            observer.disconnect();\n",
       "        }}\n",
       "}});\n",
       "\n",
       "// Listen for the removal of the full notebook cells\n",
       "var notebookContainer = gd.closest('#notebook-container');\n",
       "if (notebookContainer) {{\n",
       "    x.observe(notebookContainer, {childList: true});\n",
       "}}\n",
       "\n",
       "// Listen for the clearing of the current output cell\n",
       "var outputEl = gd.closest('.output');\n",
       "if (outputEl) {{\n",
       "    x.observe(outputEl, {childList: true});\n",
       "}}\n",
       "\n",
       "                        })                };                });            </script>        </div>"
      ]
     },
     "metadata": {},
     "output_type": "display_data"
    },
    {
     "name": "stderr",
     "output_type": "stream",
     "text": [
      "100%|██████████| 39/39 [00:00<00:00, 55.08it/s]\n"
     ]
    },
    {
     "data": {
      "image/png": "[encoded data removed]",
      "text/plain": [
       "<Figure size 1000x800 with 4 Axes>"
      ]
     },
     "metadata": {},
     "output_type": "display_data"
    }
   ],
   "source": [
    "n_epoch = 10\n",
    "\n",
    "for epoch in range(n_epoch):\n",
    "    train_list_chunks = split_list_to_chunks(train_list, 3, shuffle=True)\n",
    "    for i, train_list_chunk in enumerate(train_list_chunks):\n",
    "        \n",
    "        print(\"epoch:\", epoch, \"\\ntrain step:\", i)\n",
    "        do_step(crimsonformer, train_list_chunk, train_logger, \"train\", optimizer=optimizer, scheduler=scheduler)\n",
    "\n",
    "        print(\"epoch:\", epoch, \"\\nvalidation\")\n",
    "        do_step(crimsonformer, val_list, val_logger, \"validation\", optimizer=None, scheduler=None)\n",
    "\n",
    "        display_progress(train_logger=train_logger, val_logger=val_logger, second_axis_keys=[\"Nan Loss\", \"SN Loss\", \"Error Loss\"], clear_output=True)\n",
    "\n",
    "        pred_list, label_list = predict(crimsonformer, val_list, is_label=True)\n",
    "        plot_pred_vs_label(pred_list[0], label_list[0], grid_height=2, grid_width=2)\n"
   ]
  },
  {
   "cell_type": "code",
   "execution_count": null,
   "metadata": {},
   "outputs": [],
   "source": []
  }
 ],
 "metadata": {
  "kernelspec": {
   "display_name": "Python 3 (ipykernel)",
   "language": "python",
   "name": "python3"
  },
  "language_info": {
   "codemirror_mode": {
    "name": "ipython",
    "version": 3
   },
   "file_extension": ".py",
   "mimetype": "text/x-python",
   "name": "python",
   "nbconvert_exporter": "python",
   "pygments_lexer": "ipython3",
   "version": "3.9.16"
  }
 },
 "nbformat": 4,
 "nbformat_minor": 4
}
